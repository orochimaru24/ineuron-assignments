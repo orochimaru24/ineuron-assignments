{
 "cells": [
  {
   "cell_type": "markdown",
   "metadata": {},
   "source": [
    "1. What is the role of try and exception block?\n",
    "\n",
    "-Exception Handling Basics:\n",
    "\n",
    "When you run a program, exceptions (errors) may occur during execution. These could be due to various reasons like invalid input, file not found, or division by zero. Python won’t directly inform you about syntax errors (grammar faults); instead, it abruptly stops execution. An emergency halt is undesirable for both end users and developers.\n",
    "\n",
    "- Using the Try-Except Block:\n",
    "\n",
    "The try block tests a section of code for errors.\n",
    "\n",
    "If an exception occurs within the try block, the program jumps straight into the except block.\n",
    "\n",
    "The except block handles the error, allowing the program to continue execution.\n",
    "\n",
    "Even if the try block contains only a pass statement, the except block is required.\n",
    "\n",
    "The else block executes code only if no exceptions were raised in the try block.\n",
    "\n",
    "The finally block always executes, regardless of whether an exception occurred or not.\n"
   ]
  },
  {
   "cell_type": "code",
   "execution_count": 1,
   "metadata": {},
   "outputs": [
    {
     "name": "stdout",
     "output_type": "stream",
     "text": [
      "There is an error in code thats why this got printed\n",
      "execution completed\n"
     ]
    }
   ],
   "source": [
    "try:\n",
    "    divide = 1/0\n",
    "\n",
    "except:\n",
    "    print(\"There is an error in code thats why this got printed\")    \n",
    "\n",
    "print(\"execution completed\")"
   ]
  },
  {
   "cell_type": "markdown",
   "metadata": {},
   "source": [
    "2. What is the syntax for a basic try-except block?"
   ]
  },
  {
   "cell_type": "code",
   "execution_count": null,
   "metadata": {},
   "outputs": [],
   "source": [
    "try:\n",
    "    # Code that may cause an exception\n",
    "    # ...\n",
    "except ExceptionType1:\n",
    "    # Handle ExceptionType1\n",
    "    # ...\n",
    "except ExceptionType2:\n",
    "    # Handle ExceptionType2\n",
    "    # ...\n",
    "else:\n",
    "    # Execute this block if no exceptions occurred\n",
    "    # ...\n",
    "finally:\n",
    "    # Execute this block regardless of exceptions\n",
    "    # ...\n"
   ]
  },
  {
   "cell_type": "markdown",
   "metadata": {},
   "source": [
    "3. What happens if an exception occurs inside a try block and there is no matching\n",
    "except block?\n",
    "\n",
    "- If error occurs in try block, the program immidiately stop the execution in try block and throws an error message as there is no except block to eliminate the error."
   ]
  },
  {
   "cell_type": "markdown",
   "metadata": {},
   "source": [
    "4. What is the difference between using a bare except block and specifying a specific\n",
    "exception type?\n",
    "\n",
    "- Bare except Block: A bare except block catches any exception. It does not specify a particular exception type. Avoid using it because it can hide unexpected errors.\n",
    "\n",
    "- Specific Exception Type:Specifying a specific exception type allows you to catch only that type of exception. It provides better clarity and targeted error handling."
   ]
  },
  {
   "cell_type": "markdown",
   "metadata": {},
   "source": [
    "5. Can you have nested try-except blocks in Python? If yes, then give an example.\n",
    "\n",
    "- Yes we can use nested try-except blocks in python. Below is the example of the same."
   ]
  },
  {
   "cell_type": "code",
   "execution_count": 7,
   "metadata": {},
   "outputs": [
    {
     "name": "stdout",
     "output_type": "stream",
     "text": [
      "File 'my_data.txt' not found. Please check the file path.\n",
      "File handling complete.\n"
     ]
    }
   ],
   "source": [
    "def read_file(file_path):\n",
    "    try:\n",
    "        with open(file_path, \"r\") as file:\n",
    "            content = file.read()\n",
    "            print(\"File content:\")\n",
    "            print(content)\n",
    "    except FileNotFoundError:\n",
    "        print(f\"File '{file_path}' not found. Please check the file path.\")\n",
    "    except PermissionError:\n",
    "        print(f\"Permission denied for file '{file_path}'. Make sure you have read access.\")\n",
    "    except Exception as e:\n",
    "        print(f\"An unexpected error occurred: {e}\")\n",
    "    else:\n",
    "        print(\"File read successfully!\")\n",
    "    finally:\n",
    "        print(\"File handling complete.\")\n",
    "\n",
    "# Example usage\n",
    "file_path = \"my_data.txt\"\n",
    "read_file(file_path)\n"
   ]
  },
  {
   "cell_type": "markdown",
   "metadata": {},
   "source": [
    "6. Can we use multiple exception blocks, if yes then give an example.\n",
    "\n",
    "- Yes please refer above example for multiple exception blocks\n"
   ]
  },
  {
   "cell_type": "markdown",
   "metadata": {},
   "source": [
    "7. Write the reason due to which following errors are raised:\n",
    "\n",
    "a. EOFError - An EOFError occurs when one of the built-in functions input() or raw_input() hits an end-of-file condition (EOF) without reading any data.\n",
    "\n",
    "b. FloatingPointError - A FloatingPointError occurs when an invalid operation is performed on a floating-point number. Common causes include division by zero, overflow errors from operations resulting in numbers too large for the float representation, and underflow errors from operations resulting in numbers too close to zero that are represented as zero.\n",
    "\n",
    "c. IndexError - IndexError occurs when you try to access an index that is out of range in a list, tuple, or string. It happens when you attempt to access an item that doesn’t exist in the sequence.\n",
    "\n",
    "d. MemoryError - A MemoryError occurs when a program runs out of available memory. It happens when a Python script or program tries to create or manipulate data structures that consume more memory than the system can provide.\n",
    "\n",
    "\n",
    "e. OverflowError - An OverflowError occurs when a calculation exceeds the maximum capacity for a numeric type.\n",
    "\n",
    "f. TabError - A TabError occurs when inconsistent use of tabs and spaces is detected in indentation. Python relies on consistent indentation to define blocks of code. Mixing tabs and spaces can lead to this error.\n",
    "\n",
    "g. ValueError -A ValueError occurs when a function receives an argument of the correct data type but with an inappropriate value.\n"
   ]
  },
  {
   "cell_type": "markdown",
   "metadata": {},
   "source": [
    "8. Write code for the following given scenario and add try-exception block to it.\n",
    "\n",
    "a. Program to divide two numbers\n",
    "\n",
    "b. Program to convert a string to an integer\n",
    "\n",
    "c. Program to access an element in a list\n",
    "\n",
    "d. Program to handle a specific exception\n",
    "\n",
    "e. Program to handle any exception\n"
   ]
  },
  {
   "cell_type": "code",
   "execution_count": 15,
   "metadata": {},
   "outputs": [
    {
     "name": "stdout",
     "output_type": "stream",
     "text": [
      "The answer of the division is 2.0\n",
      "execution of the code is completed.\n",
      "There is an error in your input please try again.\n",
      "execution of the code is completed.\n"
     ]
    }
   ],
   "source": [
    "#a. Program to divide two numbers\n",
    "\n",
    "\n",
    "def dividing_numbers(a,b):\n",
    "    try:\n",
    "        c = a/b\n",
    "        print(f\"The answer of the division is {c}\")\n",
    "    except:\n",
    "        print(\"There is an error in your input please try again.\")\n",
    "    finally:\n",
    "        print(\"execution of the code is completed.\")            \n",
    "\n",
    "dividing_numbers(10,5)     \n",
    "dividing_numbers(10,0)   "
   ]
  },
  {
   "cell_type": "code",
   "execution_count": 20,
   "metadata": {},
   "outputs": [
    {
     "name": "stdout",
     "output_type": "stream",
     "text": [
      "The given data 123 is converted into integer\n",
      "Program execution is completed.\n",
      "The given data cannot be converted into integer.\n",
      "Program execution is completed.\n"
     ]
    }
   ],
   "source": [
    "#b. Program to convert a string to an integer\n",
    "\n",
    "def convert_str_to_int(a):\n",
    "    try:\n",
    "        b = int(a)\n",
    "        print(f\"The given data {b} is converted into integer\")\n",
    "    except:\n",
    "        print(\"The given data cannot be converted into integer.\")\n",
    "    finally:\n",
    "        print(\"Program execution is completed.\")\n",
    "\n",
    "\n",
    "convert_str_to_int(\"123\")\n",
    "convert_str_to_int(\"werr\")                \n"
   ]
  },
  {
   "cell_type": "code",
   "execution_count": 25,
   "metadata": {},
   "outputs": [
    {
     "name": "stdout",
     "output_type": "stream",
     "text": [
      "The 5 element contains value 43 in the given list\n",
      "The execution of the code is completed.\n",
      "The element that you are trying to access in not there in the give list or you have entered the wrong name of the list. Kindly check\n",
      "The execution of the code is completed.\n"
     ]
    }
   ],
   "source": [
    "#c. Program to access an element in a list\n",
    "\n",
    "def accessing(list1,index):\n",
    "    \n",
    "    try:\n",
    "        value = list1[index]\n",
    "        print(f\"The {index} element contains value {value} in the given list\")\n",
    "\n",
    "    except:\n",
    "        print(\"The element that you are trying to access in not there in the give list or you have entered the wrong name of the list. Kindly check\")\n",
    "\n",
    "    finally:\n",
    "        print(\"The execution of the code is completed.\")      \n",
    "\n",
    "\n",
    "ok = [1,22,45,66,88,43,656,434,757,32,65]\n",
    "\n",
    "accessing(ok,5)\n",
    "accessing(ok,69)"
   ]
  },
  {
   "cell_type": "code",
   "execution_count": 28,
   "metadata": {},
   "outputs": [
    {
     "name": "stdout",
     "output_type": "stream",
     "text": [
      "The answer of the division is 2.0\n",
      "execution of the code is completed.\n",
      "Value cannot be divided by zero!\n",
      "execution of the code is completed.\n",
      "Please enter only numeric value.\n",
      "execution of the code is completed.\n"
     ]
    }
   ],
   "source": [
    "#d. Program to handle a specific exception\n",
    "\n",
    "def dividing_numbers(a,b):\n",
    "    try:\n",
    "        c = a/b\n",
    "        print(f\"The answer of the division is {c}\")\n",
    "    except ZeroDivisionError:\n",
    "        print(\"Value cannot be divided by zero!\")\n",
    "    except :\n",
    "        print(\"Please enter only numeric value.\")    \n",
    "    finally:\n",
    "        print(\"execution of the code is completed.\") \n",
    "\n",
    "dividing_numbers(10,5)\n",
    "dividing_numbers(10,0)\n",
    "dividing_numbers(10,\"string\")"
   ]
  },
  {
   "cell_type": "code",
   "execution_count": 29,
   "metadata": {},
   "outputs": [
    {
     "name": "stdout",
     "output_type": "stream",
     "text": [
      "An exception occurred: division by zero\n",
      "Exception handling complete.\n"
     ]
    }
   ],
   "source": [
    "#e. Program to handle any exception\n",
    "\n",
    "\n",
    "def handle_any_exception():\n",
    "    try:\n",
    "        # Code that may cause an exception\n",
    "        result = 10 / 0  # Division by zero\n",
    "        print(\"Result:\", result)\n",
    "    except Exception as e:\n",
    "        print(f\"An exception occurred: {e}\")\n",
    "    else:\n",
    "        print(\"No exceptions occurred.\")\n",
    "    finally:\n",
    "        print(\"Exception handling complete.\")\n",
    "\n",
    "# Example usage\n",
    "handle_any_exception()\n"
   ]
  },
  {
   "cell_type": "code",
   "execution_count": null,
   "metadata": {},
   "outputs": [],
   "source": []
  }
 ],
 "metadata": {
  "kernelspec": {
   "display_name": "Python 3",
   "language": "python",
   "name": "python3"
  },
  "language_info": {
   "codemirror_mode": {
    "name": "ipython",
    "version": 3
   },
   "file_extension": ".py",
   "mimetype": "text/x-python",
   "name": "python",
   "nbconvert_exporter": "python",
   "pygments_lexer": "ipython3",
   "version": "3.9.6"
  }
 },
 "nbformat": 4,
 "nbformat_minor": 2
}

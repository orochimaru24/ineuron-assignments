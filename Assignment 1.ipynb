{
 "cells": [
  {
   "cell_type": "markdown",
   "id": "45f72433-5c78-4134-adfc-d7cd06e70be2",
   "metadata": {},
   "source": [
    "1. In the below elements which of them are values or an expression? eg:- values can be\n",
    "integer or string and expressions will be mathematical operators.\n",
    "\n",
    "*\n",
    "\n",
    "'hello'\n",
    "\n",
    "-87.8\n",
    "\n",
    "-\n",
    "\n",
    "/\n",
    "\n",
    "+\n",
    "\n",
    "6\n",
    "\n",
    "\n",
    "Ans. Values are ‘hello’ , -87.8, 6\n",
    "Expression are *, - , /, +"
   ]
  },
  {
   "cell_type": "markdown",
   "id": "d0149941-2163-4786-b052-fe6316d2c6d0",
   "metadata": {},
   "source": [
    "2. What is the difference between string and variable?\n",
    "\n",
    "Ans. Variable - It is use to store data/value in it.\n",
    "\n",
    "String - It is use to store text in it and one has to use single ‘ ‘ or double quote “ “"
   ]
  },
  {
   "cell_type": "markdown",
   "id": "a3e31ee8-fb39-4b95-8769-d3c7d05195cd",
   "metadata": {},
   "source": [
    "3. Describe three different data types.\n",
    "\n",
    "Ans. There are 3 different data types\n",
    "\n",
    "1. String - It is use to store text in it and one has to use single ‘ ‘ or double quote “ “\n",
    "\n",
    "2. Integer - numbers which are prime not with decimal are stored in it.\n",
    "\n",
    "3. Float - Numbers with decimal."
   ]
  },
  {
   "cell_type": "markdown",
   "id": "03847c01-faab-484c-8435-eb573949d7c8",
   "metadata": {},
   "source": [
    "4. What is an expression made up of? What do all expressions do?\n",
    "\n",
    "Ans. Expressions are made up of operators, values and variables which produces result. It\n",
    "gives us new value after running the code in python interpreter."
   ]
  },
  {
   "cell_type": "markdown",
   "id": "4586bd49-93f8-4582-8d2b-efb56cc1561b",
   "metadata": {},
   "source": [
    "5. This assignment statements, like spam = 10. What is the difference between an expression\n",
    "and a statement?\n",
    "\n",
    "Ans. Statement - It is useful to create values or displaying it. So spam = 10 is a statement.\n",
    "\n",
    "Expression - It is useful to do operation, i.e. it produces result after interpretation by\n",
    "interpreter."
   ]
  },
  {
   "cell_type": "markdown",
   "id": "c119bf00-55d2-409c-8c09-f464737c3c58",
   "metadata": {},
   "source": [
    "6. After running the following code, what does the variable bacon contain?\n",
    "\n"
   ]
  },
  {
   "cell_type": "code",
   "execution_count": 2,
   "id": "a273d75e-227a-45ca-a95c-02393bf2aa73",
   "metadata": {},
   "outputs": [
    {
     "data": {
      "text/plain": [
       "22"
      ]
     },
     "execution_count": 2,
     "metadata": {},
     "output_type": "execute_result"
    }
   ],
   "source": [
    "bacon = 22\n",
    "bacon + 1\n",
    "bacon"
   ]
  },
  {
   "cell_type": "markdown",
   "id": "1ecd85a8-98a1-4196-811d-c8adccb8532b",
   "metadata": {},
   "source": [
    "7. What should the values of the following two terms be?\n",
    "\n",
    "'spam' + 'spamspam'\n",
    "\n",
    "'spam' * 3\n",
    "\n",
    "Ans. For both end result should be - ‘spamspamspam’"
   ]
  },
  {
   "cell_type": "code",
   "execution_count": 5,
   "id": "33360752-a88c-4ae3-aa64-e51439ebcb0d",
   "metadata": {},
   "outputs": [
    {
     "data": {
      "text/plain": [
       "'spamspamspam'"
      ]
     },
     "execution_count": 5,
     "metadata": {},
     "output_type": "execute_result"
    }
   ],
   "source": [
    "'spam' + 'spamspam'\n",
    "\n"
   ]
  },
  {
   "cell_type": "code",
   "execution_count": 4,
   "id": "4e0c61af-a7f5-4424-87f5-5fd5a2438351",
   "metadata": {},
   "outputs": [
    {
     "data": {
      "text/plain": [
       "'spamspamspam'"
      ]
     },
     "execution_count": 4,
     "metadata": {},
     "output_type": "execute_result"
    }
   ],
   "source": [
    "\n",
    "\n",
    "'spam' * 3"
   ]
  },
  {
   "cell_type": "markdown",
   "id": "515548e1-6946-4d0e-b4e2-0be68624c2bc",
   "metadata": {},
   "source": [
    "8. Why is eggs a valid variable name while 100 is invalid?\n",
    "\n",
    "\n",
    "Ans. Because one can not assign numeric value to a variable name."
   ]
  },
  {
   "cell_type": "markdown",
   "id": "85ab552a-9a98-41d9-a868-048f7aab3e1a",
   "metadata": {},
   "source": [
    "9. What three functions can be used to get the integer, floating-point number, or string\n",
    "version of a value?\n",
    "\n",
    "\n",
    "Ans. int(), float(), and str()"
   ]
  },
  {
   "cell_type": "markdown",
   "id": "370d1a92-0137-420c-98ed-1f630aff12d6",
   "metadata": {},
   "source": [
    "10. Why does this expression cause an error? How can you fix it?\n",
    "'I have eaten ' + 99 + ' burritos.’\n",
    "\n",
    "\n",
    "Ans. Because python can only concatenate string not string and integer/float."
   ]
  },
  {
   "cell_type": "code",
   "execution_count": null,
   "id": "05719f8c-b748-47af-ad7e-b1226b8b2276",
   "metadata": {},
   "outputs": [],
   "source": []
  }
 ],
 "metadata": {
  "kernelspec": {
   "display_name": "Python 3 (ipykernel)",
   "language": "python",
   "name": "python3"
  },
  "language_info": {
   "codemirror_mode": {
    "name": "ipython",
    "version": 3
   },
   "file_extension": ".py",
   "mimetype": "text/x-python",
   "name": "python",
   "nbconvert_exporter": "python",
   "pygments_lexer": "ipython3",
   "version": "3.11.8"
  }
 },
 "nbformat": 4,
 "nbformat_minor": 5
}

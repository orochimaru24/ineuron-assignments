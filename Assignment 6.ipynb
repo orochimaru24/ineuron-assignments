{
 "cells": [
  {
   "cell_type": "markdown",
   "id": "a25ac1fd-1496-4bfa-a9d2-058390a86e45",
   "metadata": {},
   "source": []
  },
  {
   "cell_type": "markdown",
   "id": "99c05eee-2931-4c80-8a4a-9d4d83763d92",
   "metadata": {},
   "source": [
    "Q.1. What are keywords in python? Using the keyword library, print all the python keywords.\n",
    "\n",
    "Ans. They are the words which are used to define single function and it can not be used to define a variable.\n"
   ]
  },
  {
   "cell_type": "code",
   "execution_count": 6,
   "id": "185ccde6-1d24-416a-919e-0f473c57204a",
   "metadata": {},
   "outputs": [
    {
     "name": "stdout",
     "output_type": "stream",
     "text": [
      "['False', 'None', 'True', 'and', 'as', 'assert', 'async', 'await', 'break', 'class', 'continue', 'def', 'del', 'elif', 'else', 'except', 'finally', 'for', 'from', 'global', 'if', 'import', 'in', 'is', 'lambda', 'nonlocal', 'not', 'or', 'pass', 'raise', 'return', 'try', 'while', 'with', 'yield']\n"
     ]
    }
   ],
   "source": [
    "import keyword\n",
    "print(keyword.kwlist)"
   ]
  },
  {
   "cell_type": "markdown",
   "id": "c1bf1ac9-4e5c-477d-837f-3596aba8fc1e",
   "metadata": {},
   "source": [
    "Q.2. What are the rules to create variables in python?\n",
    "\n",
    "Ans. \n",
    "\n",
    "- A variable should not start with a number.\n",
    "\n",
    "- variable should not contain any special characters such as @#$% it should only contain aplphabet, numericals and underscores.\n",
    "\n",
    "- It must start with alphabet or underscore.\n",
    "\n",
    "- variables are case sensitive.\n",
    "\n",
    "- variables should not be made of keywords.\n",
    "    "
   ]
  },
  {
   "cell_type": "markdown",
   "id": "a5274a4b-003e-438b-b18c-5f9cb388dfb2",
   "metadata": {},
   "source": [
    "Q.3. What are the standards and conventions followed for the nomenclature of variables in python to improve code readability and maintainability?\n",
    "\n",
    "- Function and Variable Names:\n",
    "  Function names should be lowercase, with words separated by underscores as necessary for readability.\n",
    "  Variable names follow the same convention as function names.\n",
    "  mixedCase (also known as camelCase) is allowed only in contexts where it’s already the prevailing style (e.g., threading.py) to maintain backward compatibility.\n",
    "- Class Names:\n",
    "  Class names should follow the CapWords convention (also known as PascalCase), where each word starts with an uppercase letter.\n",
    "- Constants:\n",
    "  Constants (global variables that don’t change) should be in UPPERCASE_WITH_UNDERSCORES.\n",
    "\n",
    "- Underscores vs. CamelCase:\n",
    "\n",
    "  While underscores are common in Python (e.g., this_is_my_variable), some prefer camelCase (e.g., thisIsMyVariable). Choose one style and stick to it consistently.\n",
    "- Readability Matters:\n",
    "  Prioritize readability over brevity. Clear and descriptive names are essential for understanding code.\n",
    "- Domain-Specific Considerations:\n",
    "  In scientific computing or specialized domains, you might encounter well-known constants or tensors denoted by capital letters. In such cases, adapt the naming convention as needed\n"
   ]
  },
  {
   "cell_type": "markdown",
   "id": "e146fc58-fa6b-4a30-b701-e2c7e255c505",
   "metadata": {},
   "source": [
    "Q.4. What will happen if a keyword is used as a variable name?\n",
    "\n",
    "Ans. it will throw an error, please refer below eg."
   ]
  },
  {
   "cell_type": "code",
   "execution_count": 7,
   "id": "38a37c6c-3066-4436-8b50-ac9503532d0d",
   "metadata": {},
   "outputs": [
    {
     "ename": "SyntaxError",
     "evalue": "invalid syntax (1325530333.py, line 1)",
     "output_type": "error",
     "traceback": [
      "\u001b[0;36m  Cell \u001b[0;32mIn[7], line 1\u001b[0;36m\u001b[0m\n\u001b[0;31m    and = \"example\"\u001b[0m\n\u001b[0m    ^\u001b[0m\n\u001b[0;31mSyntaxError\u001b[0m\u001b[0;31m:\u001b[0m invalid syntax\n"
     ]
    }
   ],
   "source": [
    "and = \"example\""
   ]
  },
  {
   "cell_type": "markdown",
   "id": "a65fcbd8-dfdc-4f71-b8cc-85f07c9ab861",
   "metadata": {},
   "source": [
    "Q.5. For what purpose def keyword is used?\n",
    "\n",
    "Ans. def is the short form of define and it is use to define an function. "
   ]
  },
  {
   "cell_type": "markdown",
   "id": "3b6cb961-00da-4889-b581-c04064e1c80c",
   "metadata": {},
   "source": [
    "Q.6. What is the operation of this special character ‘\\’?\n",
    "\n",
    "Ans. \\t\" is a tab, \"\\n\" is a newline, and \"\\r\" is a carriage return. Conversely, prefixing a special character with \"\\\" turns it into an ordinary character."
   ]
  },
  {
   "cell_type": "markdown",
   "id": "7dc9c068-99fe-4fac-ae0d-6b34f300428e",
   "metadata": {},
   "source": [
    "Q.7. Give an example of the following conditions:\n",
    "\n",
    "1 Homogeneous list\n",
    "\n",
    "2 Heterogeneous set\n",
    "\n",
    "3 Homogeneous tuple"
   ]
  },
  {
   "cell_type": "code",
   "execution_count": 9,
   "id": "48eae172-a158-4ec3-9c26-f17d3664055f",
   "metadata": {},
   "outputs": [
    {
     "data": {
      "text/plain": [
       "[1, 2, 3, 4]"
      ]
     },
     "execution_count": 9,
     "metadata": {},
     "output_type": "execute_result"
    }
   ],
   "source": [
    "# Homogeneous list\n",
    "list1 = [1,2,3,4]\n",
    "list1"
   ]
  },
  {
   "cell_type": "code",
   "execution_count": 11,
   "id": "1e0a8653-5be2-40d1-b910-79fff48910af",
   "metadata": {},
   "outputs": [
    {
     "data": {
      "text/plain": [
       "{1, '2', 98.6, '98.6', 'word'}"
      ]
     },
     "execution_count": 11,
     "metadata": {},
     "output_type": "execute_result"
    }
   ],
   "source": [
    "#Heterogeneous set\n",
    "set1 = {1,\"word\",\"2\",\"98.6\",98.6}\n",
    "set1"
   ]
  },
  {
   "cell_type": "code",
   "execution_count": 12,
   "id": "af30cb91-f3c2-470e-aaa5-9c22bfd58216",
   "metadata": {},
   "outputs": [
    {
     "data": {
      "text/plain": [
       "(1, 2, 3, 4)"
      ]
     },
     "execution_count": 12,
     "metadata": {},
     "output_type": "execute_result"
    }
   ],
   "source": [
    "#homogeneous tuple\n",
    "tuple1 = (1,2,3,4)\n",
    "tuple1"
   ]
  },
  {
   "cell_type": "markdown",
   "id": "9501613b-10a4-4dbc-9279-915e5e33f48c",
   "metadata": {},
   "source": [
    "Q.7. Explain the mutable and immutable data types with proper explanation & examples.\n",
    "\n",
    "Ans. mutable data type is the type of data which can be changed once it has created whereas immutable data can't be altered once it has created.\n",
    "\n",
    "For instance lists, values in dictionaries and sets are mutable but tuple, string, numbers and keys in dictionaries are immutable."
   ]
  },
  {
   "cell_type": "markdown",
   "id": "ca5f994b-3718-4413-8d3e-5dfd7d1511c7",
   "metadata": {},
   "source": [
    "Q.8. Explain the mutable and immutable data types with proper explanation & examples."
   ]
  },
  {
   "cell_type": "code",
   "execution_count": 15,
   "id": "be56b5da-0a39-4fb5-ab2f-7fc4d83c9001",
   "metadata": {},
   "outputs": [
    {
     "name": "stdout",
     "output_type": "stream",
     "text": [
      "['ok', 2, 3, 4]\n"
     ]
    },
    {
     "data": {
      "text/plain": [
       "['ok', 2, 3, 4]"
      ]
     },
     "execution_count": 15,
     "metadata": {},
     "output_type": "execute_result"
    }
   ],
   "source": [
    "print(list1)\n",
    "list1[0]= \"ok\" # here we changed the value of first data in list\n",
    "list1 "
   ]
  },
  {
   "cell_type": "code",
   "execution_count": 23,
   "id": "77c4a39b-b888-49dd-94ca-fa8dd52c94be",
   "metadata": {},
   "outputs": [
    {
     "name": "stdout",
     "output_type": "stream",
     "text": [
      "{'ok': 1, 'not ok': 2}\n"
     ]
    },
    {
     "data": {
      "text/plain": [
       "{'ok': 15, 'not ok': 2}"
      ]
     },
     "execution_count": 23,
     "metadata": {},
     "output_type": "execute_result"
    }
   ],
   "source": [
    "dict1 = {\"ok\":1,\"not ok\":2}\n",
    "print(dict1)\n",
    "dict1[\"ok\"] = 15 # here we modified the value of \"ok\" key\n",
    "dict1"
   ]
  },
  {
   "cell_type": "code",
   "execution_count": 26,
   "id": "9353f273-8a35-4607-bcab-bfd598c45a26",
   "metadata": {},
   "outputs": [
    {
     "name": "stdout",
     "output_type": "stream",
     "text": [
      "(1, 2, 3, 4)\n"
     ]
    },
    {
     "ename": "TypeError",
     "evalue": "'tuple' object does not support item assignment",
     "output_type": "error",
     "traceback": [
      "\u001b[0;31m---------------------------------------------------------------------------\u001b[0m",
      "\u001b[0;31mTypeError\u001b[0m                                 Traceback (most recent call last)",
      "Cell \u001b[0;32mIn[26], line 2\u001b[0m\n\u001b[1;32m      1\u001b[0m \u001b[38;5;28mprint\u001b[39m(tuple1)\n\u001b[0;32m----> 2\u001b[0m tuple1[\u001b[38;5;241m0\u001b[39m] \u001b[38;5;241m=\u001b[39m \u001b[38;5;241m1\u001b[39m\n",
      "\u001b[0;31mTypeError\u001b[0m: 'tuple' object does not support item assignment"
     ]
    }
   ],
   "source": [
    "print(tuple1)\n",
    "tuple1[0] = 1 # as you can see the error in tuple we cannot change any value hence it is immutable"
   ]
  },
  {
   "cell_type": "markdown",
   "id": "9d2130b7-2c23-42b7-9b2d-d6ccadca193e",
   "metadata": {},
   "source": [
    "Q.9. Write a code to create the given structure using only for loop.\n",
    "    *\n",
    "   ***\n",
    "  *****\n",
    " *******\n",
    "*********\n"
   ]
  },
  {
   "cell_type": "code",
   "execution_count": 9,
   "id": "40345256-39c5-4be3-a596-820f58832217",
   "metadata": {},
   "outputs": [
    {
     "name": "stdout",
     "output_type": "stream",
     "text": [
      "    *\n",
      "   ***\n",
      "  *****\n",
      " *******\n",
      "*********\n"
     ]
    }
   ],
   "source": [
    "def create_pyramid(height):\n",
    "    for i in range(height):\n",
    "        print(\" \"*(height-i-1),end=\"\")\n",
    "        print(\"*\"*(i*2+1))\n",
    "pyramid_height = 5\n",
    "create_pyramid(pyramid_height)        "
   ]
  },
  {
   "cell_type": "markdown",
   "id": "572e8b9f-523a-4882-bbf5-bb4b7d1532b6",
   "metadata": {},
   "source": [
    "Q.10. Write a code to create the given structure using while loop. \n",
    "\n",
    "|||||||||\n",
    " ||||||| \n",
    "  ||||| \n",
    "   ||| \n",
    "    |"
   ]
  },
  {
   "cell_type": "code",
   "execution_count": 15,
   "id": "3576f2ca-f23b-4af5-89c7-4ca132ac2c22",
   "metadata": {},
   "outputs": [
    {
     "name": "stdout",
     "output_type": "stream",
     "text": [
      "      |||||||||\n",
      "       |||||||\n",
      "        |||||\n",
      "         |||\n",
      "          |\n"
     ]
    }
   ],
   "source": [
    "def creating_pyramid_with_while_loop(height):\n",
    "    spaces = height + 1\n",
    "    stars = 9\n",
    "\n",
    "    while height > 0:\n",
    "        print(\" \"*spaces,end=\"\")\n",
    "        print(\"|\"*stars)\n",
    "\n",
    "        stars -= 2\n",
    "        height -= 1\n",
    "        spaces += 1\n",
    "\n",
    "creating_pyramid_with_while_loop(5)         "
   ]
  },
  {
   "cell_type": "code",
   "execution_count": null,
   "id": "910e7ebb-45a3-4df7-b3a2-80ff6f39df92",
   "metadata": {},
   "outputs": [],
   "source": []
  },
  {
   "cell_type": "code",
   "execution_count": null,
   "id": "cd7c12f5",
   "metadata": {},
   "outputs": [],
   "source": []
  }
 ],
 "metadata": {
  "kernelspec": {
   "display_name": "Python 3 (ipykernel)",
   "language": "python",
   "name": "python3"
  },
  "language_info": {
   "codemirror_mode": {
    "name": "ipython",
    "version": 3
   },
   "file_extension": ".py",
   "mimetype": "text/x-python",
   "name": "python",
   "nbconvert_exporter": "python",
   "pygments_lexer": "ipython3",
   "version": "3.9.6"
  }
 },
 "nbformat": 4,
 "nbformat_minor": 5
}

{
 "cells": [
  {
   "cell_type": "markdown",
   "metadata": {},
   "source": [
    "1. In Python, what is the difference between a built-in function and a user-defined function? Provide an example of each.\n",
    "\n",
    "- Built-in functions are already there i the language we cannot modify it and they can be use in any file which works with python. Whereas userdefined are the one which we define with the help if def function. Please refer below example."
   ]
  },
  {
   "cell_type": "code",
   "execution_count": 1,
   "metadata": {},
   "outputs": [
    {
     "name": "stdout",
     "output_type": "stream",
     "text": [
      "The result is 81\n"
     ]
    }
   ],
   "source": [
    "def multiplication(x,y): #  function multiplication which we created with the help of def so it is user defined.\n",
    "    z = x*y\n",
    "    print(\"The result is\", z) # print function which is builtin the python language itself.\n",
    "\n",
    "multiplication(9,9)"
   ]
  },
  {
   "cell_type": "markdown",
   "metadata": {},
   "source": [
    "2. How can you pass arguments to a function in Python? Explain the difference between positional arguments and keyword arguments.\n",
    "- In positional argument position matters for instance first parameter gets allocated to first variable whereas second goes to second one. On the other hand in keyword arguements we define the parameter with the variable so position does not matter in this case."
   ]
  },
  {
   "cell_type": "code",
   "execution_count": 4,
   "metadata": {},
   "outputs": [
    {
     "name": "stdout",
     "output_type": "stream",
     "text": [
      "Hello, bob! You have entered your age number 12.\n",
      "Hello, alice! You have entered your age number 69.\n"
     ]
    }
   ],
   "source": [
    "def simple(name,age):\n",
    "    print(f\"Hello, {name}! You have entered your age number {age}.\")\n",
    "\n",
    "simple(\"bob\",12) # positional argument\n",
    "\n",
    "simple(age=69,name=\"alice\") # keyword argument\n",
    "\n",
    "\n"
   ]
  },
  {
   "cell_type": "markdown",
   "metadata": {},
   "source": [
    "3. What is the purpose of the return statement in a function? Can a function have multiple return statements? Explain with an example.\n",
    "\n",
    "- It terminates any subsequent code in the function and send a value back from a function to the caller. Yes there can be multiple return statements. Please refer below example."
   ]
  },
  {
   "cell_type": "code",
   "execution_count": 5,
   "metadata": {},
   "outputs": [
    {
     "name": "stdout",
     "output_type": "stream",
     "text": [
      "Square of 9 is 81\n"
     ]
    }
   ],
   "source": [
    "# single return statement\n",
    "def multiplication(x,y): \n",
    "    return x*y # returns multiplication of 2 values.\n",
    "     \n",
    "\n",
    "x = multiplication(9,9)\n",
    "print(f\"Square of 9 is {x}\")"
   ]
  },
  {
   "cell_type": "code",
   "execution_count": 15,
   "metadata": {},
   "outputs": [
    {
     "name": "stdout",
     "output_type": "stream",
     "text": [
      "5.0\n",
      "Error: Cannot divide by zero\n"
     ]
    }
   ],
   "source": [
    "# multiple return statement\n",
    "def divide(a, b):\n",
    "    \"\"\"Returns the result of division or an error message.\"\"\"\n",
    "    if b != 0:\n",
    "        return a / b\n",
    "    else:\n",
    "        return \"Error: Cannot divide by zero\"\n",
    "\n",
    "result1 = divide(10, 2)\n",
    "result2 = divide(10, 0)\n",
    "print(result1)  # Output: 5.0\n",
    "print(result2)  # Output: Error: Cannot divide by zero\n"
   ]
  },
  {
   "cell_type": "markdown",
   "metadata": {},
   "source": [
    "4. What are lambda functions in Python? How are they different from regular functions? Provide an example where a lambda function can be useful.\n",
    "\n",
    "- Lambda functions are created using the lambda keyword. They are designed for short, one-line computations and are often used as arguments to higher-order functions.\n",
    "\n",
    "- Regular functions can contain several lines of code and are more flexible. Whereas Lambda functions can only contain a single expression and cannot have multiple lines of code.\n",
    "\n"
   ]
  },
  {
   "cell_type": "code",
   "execution_count": 16,
   "metadata": {},
   "outputs": [
    {
     "name": "stdout",
     "output_type": "stream",
     "text": [
      "[(3, 2), (4, 3), (1, 5), (2, 8)]\n"
     ]
    }
   ],
   "source": [
    "data = [(1, 5), (3, 2), (2, 8), (4, 3)]\n",
    "sorted_data = sorted(data, key=lambda x: x[1])\n",
    "print(sorted_data)\n",
    "# Output: [(3, 2), (4, 3), (1, 5), (2, 8)]\n"
   ]
  },
  {
   "cell_type": "markdown",
   "metadata": {},
   "source": [
    "5. How does the concept of \"scope\" apply to functions in Python? Explain the difference between local scope and global scope.\n",
    "\n",
    "- Local variables are specific to a function and cannot be accessed outside it.\n",
    "\n",
    "- Global variables are accessible from any part of the program.\n",
    "\n",
    "- If a variable is defined both locally and globally, the local version takes precedence within the function.\n",
    "\n",
    "- To modify a global variable within a function, use the global keyword."
   ]
  },
  {
   "cell_type": "code",
   "execution_count": 18,
   "metadata": {},
   "outputs": [
    {
     "name": "stdout",
     "output_type": "stream",
     "text": [
      "zyx\n"
     ]
    },
    {
     "ename": "NameError",
     "evalue": "name 'xyz' is not defined",
     "output_type": "error",
     "traceback": [
      "\u001b[0;31m---------------------------------------------------------------------------\u001b[0m",
      "\u001b[0;31mNameError\u001b[0m                                 Traceback (most recent call last)",
      "Cell \u001b[0;32mIn[18], line 6\u001b[0m\n\u001b[1;32m      3\u001b[0m     \u001b[38;5;28mprint\u001b[39m(xyz)\n\u001b[1;32m      5\u001b[0m greet()\n\u001b[0;32m----> 6\u001b[0m \u001b[38;5;28mprint\u001b[39m(\u001b[43mxyz\u001b[49m)    \n",
      "\u001b[0;31mNameError\u001b[0m: name 'xyz' is not defined"
     ]
    }
   ],
   "source": [
    "def greet():\n",
    "    xyz = \"zyx\"\n",
    "    print(xyz)\n",
    "\n",
    "greet()\n",
    "print(xyz) # local vairable threw an error because it can be useful only in within the function.    "
   ]
  },
  {
   "cell_type": "code",
   "execution_count": 19,
   "metadata": {},
   "outputs": [
    {
     "name": "stdout",
     "output_type": "stream",
     "text": [
      "Hello, global scope!\n"
     ]
    }
   ],
   "source": [
    "global_var = \"Hello, global scope!\"\n",
    "\n",
    "def print_global():\n",
    "    print(global_var)\n",
    "\n",
    "print_global()  # Output: Hello, global scope! \n"
   ]
  },
  {
   "cell_type": "markdown",
   "metadata": {},
   "source": [
    "6. How can you use the \"return\" statement in a Python function to return multiple values?\n",
    "\n",
    "- Please refer below example."
   ]
  },
  {
   "cell_type": "code",
   "execution_count": 20,
   "metadata": {},
   "outputs": [
    {
     "name": "stdout",
     "output_type": "stream",
     "text": [
      "Coordinates: x = 10, y = 20\n"
     ]
    }
   ],
   "source": [
    "def get_coordinates():\n",
    "    x = 10\n",
    "    y = 20\n",
    "    return x, y\n",
    "\n",
    "result = get_coordinates()\n",
    "print(f\"Coordinates: x = {result[0]}, y = {result[1]}\")\n"
   ]
  },
  {
   "cell_type": "markdown",
   "metadata": {},
   "source": [
    "7. What is the difference between the \"pass by value\" and \"pass by reference\" concepts when it\n",
    "comes to function arguments in Python?\n",
    "\n",
    "- In a pass by value scenario, a copy of the original variable is passed to the function. Any changes made to the parameter inside the function do not affect the original variable outside the function. This behavior is observed with immutable objects (such as numbers, strings, and tuples)."
   ]
  },
  {
   "cell_type": "code",
   "execution_count": 21,
   "metadata": {},
   "outputs": [
    {
     "name": "stdout",
     "output_type": "stream",
     "text": [
      "Number before function call: 6\n",
      "Inside function, value updated to 12\n",
      "After function call, num value: 6\n"
     ]
    }
   ],
   "source": [
    "def call_by_value(x):\n",
    "    x = x * 2\n",
    "    print(\"Inside function, value updated to\", x)\n",
    "    return\n",
    "\n",
    "num = 6\n",
    "print(\"Number before function call:\", num)\n",
    "call_by_value(num)\n",
    "print(\"After function call, num value:\", num)\n"
   ]
  },
  {
   "cell_type": "markdown",
   "metadata": {},
   "source": [
    "- Pass by reference - In a pass by reference scenario, a reference to the original variable is passed to the function.\n",
    "Any modifications made to the parameter inside the function directly impact the original variable outside the function. This behavior is observed with mutable objects (such as lists, dictionaries, and custom objects).\n"
   ]
  },
  {
   "cell_type": "code",
   "execution_count": 22,
   "metadata": {},
   "outputs": [
    {
     "name": "stdout",
     "output_type": "stream",
     "text": [
      "List before function call: ['E']\n",
      "Inside function, list updated to ['E', 'D']\n",
      "After function call, list is ['E', 'D']\n"
     ]
    }
   ],
   "source": [
    "def call_by_reference(my_list):\n",
    "    my_list.append(\"D\")\n",
    "    print(\"Inside function, list updated to\", my_list)\n",
    "    return\n",
    "\n",
    "my_list = [\"E\"]\n",
    "print(\"List before function call:\", my_list)\n",
    "call_by_reference(my_list)\n",
    "print(\"After function call, list is\", my_list)\n"
   ]
  },
  {
   "cell_type": "markdown",
   "metadata": {},
   "source": [
    "8. Create a function that can intake integer or decimal value and do following operations:\n",
    "\n",
    "a. Logarithmic function (log x)\n",
    "\n",
    "b. Exponential function (exp(x))\n",
    "\n",
    "c. Power function with base 2 (2x)\n",
    "\n",
    "d. Square root"
   ]
  },
  {
   "cell_type": "code",
   "execution_count": 24,
   "metadata": {},
   "outputs": [
    {
     "name": "stdout",
     "output_type": "stream",
     "text": [
      "The log of 9 is 2.1972245773362196\n",
      "The exponential of 9 is 8103.083927575384\n",
      "The square root of 9 is 3.0\n",
      "The power of 2 ^ 9 is 512\n"
     ]
    }
   ],
   "source": [
    "import math\n",
    "def operation(x):\n",
    "    a = math.log(x)\n",
    "    b = math.exp(x)\n",
    "    c = math.sqrt(x)\n",
    "    d = 2**x\n",
    "    print(f\"The log of {x} is {a}\")\n",
    "    print(f\"The exponential of {x} is {b}\")\n",
    "    print(f\"The square root of {x} is {c}\")\n",
    "    print(f\"The power of 2 ^ {x} is {d}\")\n",
    "    return\n",
    "\n",
    "operation(9)"
   ]
  },
  {
   "cell_type": "markdown",
   "metadata": {},
   "source": [
    "9. Create a function that takes a full name as an argument and returns first name and last name."
   ]
  },
  {
   "cell_type": "code",
   "execution_count": 36,
   "metadata": {},
   "outputs": [
    {
     "name": "stdout",
     "output_type": "stream",
     "text": [
      "Please enter your full name.\n",
      "So your first name is Naruto & your last name is Usumaki. Am I correct?\n"
     ]
    }
   ],
   "source": [
    "\n",
    "def function():\n",
    "    full_name = input(print(\"Please enter your full name.\"))\n",
    "\n",
    "    parts = full_name.split()\n",
    "    first_name = parts[0]\n",
    "    last_name = parts[1]\n",
    "    print(f\"So your first name is {first_name} & your last name is {last_name}. Am I correct?\")\n",
    "\n",
    "function()    \n",
    "\n"
   ]
  },
  {
   "cell_type": "code",
   "execution_count": null,
   "metadata": {},
   "outputs": [],
   "source": []
  }
 ],
 "metadata": {
  "kernelspec": {
   "display_name": "Python 3",
   "language": "python",
   "name": "python3"
  },
  "language_info": {
   "codemirror_mode": {
    "name": "ipython",
    "version": 3
   },
   "file_extension": ".py",
   "mimetype": "text/x-python",
   "name": "python",
   "nbconvert_exporter": "python",
   "pygments_lexer": "ipython3",
   "version": "3.9.6"
  }
 },
 "nbformat": 4,
 "nbformat_minor": 2
}

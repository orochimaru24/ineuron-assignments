{
 "cells": [
  {
   "cell_type": "markdown",
   "id": "ec34d9a5-57a0-4a26-b2cd-efe0988b8e00",
   "metadata": {},
   "source": [
    "1. What exactly is []?\n",
    "- To create a list square brackets [] are used and it is ordered as well as we can change the values in it. The [] is an empty list without any values in it.\n"
   ]
  },
  {
   "cell_type": "markdown",
   "id": "bc59fe73-31f9-4ed5-a961-f876ce278996",
   "metadata": {},
   "source": [
    "2. In a list of values stored in a variable called spam, how would you assign the value 'hello' as the third value? (Assume [2, 4, 6, 8, 10] are in spam.)\n",
    "\n"
   ]
  },
  {
   "cell_type": "code",
   "execution_count": 35,
   "id": "66d768c7-8d53-4bcb-9047-0d10209de907",
   "metadata": {},
   "outputs": [
    {
     "data": {
      "text/plain": [
       "[2, 4, 'hello', 8, 10]"
      ]
     },
     "execution_count": 35,
     "metadata": {},
     "output_type": "execute_result"
    }
   ],
   "source": [
    "spam = [2,4,6,8,10]\n",
    "spam[2] = \"hello\"\n",
    "spam"
   ]
  },
  {
   "cell_type": "markdown",
   "id": "428597b6-6445-4df5-aacd-d0da5e3861ec",
   "metadata": {},
   "source": [
    "Let's pretend the spam includes the list ['a', 'b', 'c', 'd'] for the next three queries."
   ]
  },
  {
   "cell_type": "markdown",
   "id": "83fa70bb-e5d3-42ee-8a76-1e25568fc85b",
   "metadata": {},
   "source": [
    "3. What is the value of spam[int(int('3' * 2) / 11)]?"
   ]
  },
  {
   "cell_type": "code",
   "execution_count": 36,
   "id": "2019e670-359b-44a3-8a29-76b36d73f678",
   "metadata": {},
   "outputs": [
    {
     "data": {
      "text/plain": [
       "'a'"
      ]
     },
     "execution_count": 36,
     "metadata": {},
     "output_type": "execute_result"
    }
   ],
   "source": [
    "spam = [\"a\",\"b\",\"c\",\"d\"]\n",
    "spam[int(int(3*2/11))]\n"
   ]
  },
  {
   "cell_type": "markdown",
   "id": "89cfda8b-3670-4770-92b5-8a8751e44fcd",
   "metadata": {},
   "source": [
    "4. What is the value of spam[-1]?\n"
   ]
  },
  {
   "cell_type": "code",
   "execution_count": 37,
   "id": "4754c51d-fbe3-4576-9ea8-63640785f060",
   "metadata": {},
   "outputs": [
    {
     "data": {
      "text/plain": [
       "'d'"
      ]
     },
     "execution_count": 37,
     "metadata": {},
     "output_type": "execute_result"
    }
   ],
   "source": [
    "spam[-1]"
   ]
  },
  {
   "cell_type": "markdown",
   "id": "6f9d43df-568e-4925-ab1d-da5eb585ad9d",
   "metadata": {},
   "source": [
    "5. What is the value of spam[:2]?\n"
   ]
  },
  {
   "cell_type": "code",
   "execution_count": 38,
   "id": "e5aefd11-c245-41f6-8473-32e6fb004a3c",
   "metadata": {},
   "outputs": [
    {
     "data": {
      "text/plain": [
       "['a', 'b']"
      ]
     },
     "execution_count": 38,
     "metadata": {},
     "output_type": "execute_result"
    }
   ],
   "source": [
    "spam[:2]"
   ]
  },
  {
   "cell_type": "markdown",
   "id": "f27e8484-70af-4e3a-be49-5590e1fb8d38",
   "metadata": {},
   "source": [
    "Let's pretend bacon has the list [3.14, 'cat,' 11, 'cat,' True] for the next three questions.\n"
   ]
  },
  {
   "cell_type": "code",
   "execution_count": 39,
   "id": "d7eb6585-8a16-4652-8684-5ec9e3f3454a",
   "metadata": {},
   "outputs": [
    {
     "data": {
      "text/plain": [
       "[3.14, 'cat', 11, 'cat', True]"
      ]
     },
     "execution_count": 39,
     "metadata": {},
     "output_type": "execute_result"
    }
   ],
   "source": [
    "bacon = [3.14, 'cat', 11, 'cat', True]\n",
    "bacon"
   ]
  },
  {
   "cell_type": "markdown",
   "id": "08c92f79-54c3-4b61-a085-db2b8b4e58a9",
   "metadata": {},
   "source": [
    "6. What is the value of bacon.index('cat')?\n"
   ]
  },
  {
   "cell_type": "code",
   "execution_count": 40,
   "id": "cc7d0358-4f4c-4447-b03c-318fa5b3d092",
   "metadata": {},
   "outputs": [
    {
     "data": {
      "text/plain": [
       "1"
      ]
     },
     "execution_count": 40,
     "metadata": {},
     "output_type": "execute_result"
    }
   ],
   "source": [
    "bacon.index(\"cat\")"
   ]
  },
  {
   "cell_type": "markdown",
   "id": "dc4b7aae-3df4-41f2-9d3d-c027703f9628",
   "metadata": {},
   "source": [
    "7. How does bacon.append(99) change the look of the list value in bacon?\n"
   ]
  },
  {
   "cell_type": "code",
   "execution_count": 41,
   "id": "54c58c75-b6dd-4233-86fc-e1deccde983c",
   "metadata": {},
   "outputs": [
    {
     "data": {
      "text/plain": [
       "[3.14, 'cat', 11, 'cat', True, 99]"
      ]
     },
     "execution_count": 41,
     "metadata": {},
     "output_type": "execute_result"
    }
   ],
   "source": [
    "bacon.append(99)\n",
    "bacon"
   ]
  },
  {
   "cell_type": "markdown",
   "id": "7e4e5639-de4c-44c6-90d1-534b382eb418",
   "metadata": {},
   "source": [
    "8. How does bacon.remove('cat') change the look of the list in bacon?\n"
   ]
  },
  {
   "cell_type": "code",
   "execution_count": 42,
   "id": "408f339f-1bd4-4048-80c7-a64b425caa6a",
   "metadata": {},
   "outputs": [
    {
     "data": {
      "text/plain": [
       "[3.14, 11, 'cat', True, 99]"
      ]
     },
     "execution_count": 42,
     "metadata": {},
     "output_type": "execute_result"
    }
   ],
   "source": [
    "bacon.remove(\"cat\")\n",
    "bacon"
   ]
  },
  {
   "cell_type": "markdown",
   "id": "e6d81528-3438-4d33-8595-ee23ede8562d",
   "metadata": {},
   "source": [
    "9. What are the list concatenation and list replication operators?\n",
    "- concatenation is an operation where two lists get merged togetgher.\n",
    "- to concatenate + is used whereas for replication * is used.\n"
   ]
  },
  {
   "cell_type": "markdown",
   "id": "c10e6752-20b4-4e2d-884e-fa7256a3cb50",
   "metadata": {},
   "source": [
    "10. What is difference between the list methods append() and insert()?\n",
    "- In append() method a new value will be added to the end of a list whereas in insert() method one can enter position where the value needs to be entered i.e. we can add value anywhere in the list with the help of insert() method."
   ]
  },
  {
   "cell_type": "markdown",
   "id": "57db11e8-6630-4477-b66d-1db48a306ea4",
   "metadata": {},
   "source": [
    "11. What are the two methods for removing items from a list?\n",
    "- 1st one is del method and 2nd one is remove() method."
   ]
  },
  {
   "cell_type": "markdown",
   "id": "1cead799-76a9-401a-a2c4-0e238ef868fc",
   "metadata": {},
   "source": [
    "12. Describe how list values and string values are identical.\n",
    "- strings and lists are both sequences. Both have a length. The length of a sequence is the number of elements it contains. The length of a string is the number of characters it contains, and the length of a list is the number of items it contains."
   ]
  },
  {
   "cell_type": "markdown",
   "id": "cbce6ba3-9486-44b4-8df5-44c9815a5221",
   "metadata": {},
   "source": [
    "13. What's the difference between tuples and lists?\n",
    "- Tuples are immutable whereas lists are mutable i.e. one can not change the values of tuples but it is possible in list."
   ]
  },
  {
   "cell_type": "markdown",
   "id": "c3eeb23e-4924-4dd7-b3e8-31dd303903eb",
   "metadata": {},
   "source": [
    "14. How do you type a tuple value that only contains the integer 42?"
   ]
  },
  {
   "cell_type": "code",
   "execution_count": 43,
   "id": "8119a27c-14a3-48b7-8646-0f0723f947a7",
   "metadata": {},
   "outputs": [
    {
     "name": "stdout",
     "output_type": "stream",
     "text": [
      "<class 'tuple'>\n"
     ]
    }
   ],
   "source": [
    "tuple = (42,)\n",
    "print(type(tuple))"
   ]
  },
  {
   "cell_type": "markdown",
   "id": "c6000b12-cced-42d7-b192-cda07d7b4ddf",
   "metadata": {},
   "source": [
    "15. How do you get a list value's tuple form? How do you get a tuple value's list form?\n"
   ]
  },
  {
   "cell_type": "markdown",
   "id": "91e117b6-88a8-4477-94b8-3a7b9d57a07b",
   "metadata": {},
   "source": [
    "lsit = [1,2,3,4]\n",
    "tulpe = tuple(lsit)"
   ]
  },
  {
   "cell_type": "markdown",
   "id": "65be884d-918d-4f2d-9790-2f2f7f84719e",
   "metadata": {},
   "source": [
    "list = (\"a\",\"b\")\n",
    "d = list[list]"
   ]
  },
  {
   "cell_type": "markdown",
   "id": "0a65c742-5638-4166-9e1f-d9a3bad760f1",
   "metadata": {},
   "source": [
    "16. Variables that \"contain\" list values are not necessarily lists themselves. Instead, what do they contain?\n",
    "-  They contain references to list values"
   ]
  },
  {
   "cell_type": "markdown",
   "id": "86389d3b-fa43-42b6-a3e8-a020d187a375",
   "metadata": {},
   "source": [
    "17. How do you distinguish between copy.copy() and copy.deepcopy()?\n",
    "- A shallow copy constructs a new compound object and then (to the extent possible) inserts references into it to the objects found in the original.\n",
    "- A deep copy constructs a new compound object and then, recursively, inserts copies into it of the objects found in the original.\n"
   ]
  },
  {
   "cell_type": "code",
   "execution_count": null,
   "id": "4c28f8fc-d80b-4440-924b-442a1c224196",
   "metadata": {},
   "outputs": [],
   "source": []
  },
  {
   "cell_type": "code",
   "execution_count": null,
   "id": "06698467-fa68-4048-9030-9f1444eb8e2e",
   "metadata": {},
   "outputs": [],
   "source": []
  }
 ],
 "metadata": {
  "kernelspec": {
   "display_name": "Python 3 (ipykernel)",
   "language": "python",
   "name": "python3"
  },
  "language_info": {
   "codemirror_mode": {
    "name": "ipython",
    "version": 3
   },
   "file_extension": ".py",
   "mimetype": "text/x-python",
   "name": "python",
   "nbconvert_exporter": "python",
   "pygments_lexer": "ipython3",
   "version": "3.11.8"
  }
 },
 "nbformat": 4,
 "nbformat_minor": 5
}

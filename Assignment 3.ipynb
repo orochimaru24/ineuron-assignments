{
 "cells": [
  {
   "cell_type": "markdown",
   "id": "63a66960-52ed-4f1e-9b78-b88627a62b4a",
   "metadata": {},
   "source": [
    "1. Why are functions advantageous to have in your programs?\n",
    "- One can use function multiple times without rewriting the whole code."
   ]
  },
  {
   "cell_type": "markdown",
   "id": "88faddaf-b76c-4680-ad2f-43a79acd6755",
   "metadata": {},
   "source": [
    "2. When does the code in a function run: when it's specified or when it's called?\n",
    "- When it's called"
   ]
  },
  {
   "cell_type": "markdown",
   "id": "87eff717-8519-4608-898b-c5810ac50f76",
   "metadata": {},
   "source": [
    "3. What statement creates a function?\n",
    "- First one has to use keyword def to define the function then one has to give it a name.\n",
    "  After that parameters need to be included and statements to execute the function."
   ]
  },
  {
   "cell_type": "markdown",
   "id": "347f92b5-4926-44e1-ba1d-7f8a8e8ae45e",
   "metadata": {},
   "source": [
    "4. What is the difference between a function and a function call?\n",
    "- A function is a set of code which contains operations and function call is when we use that particular function to execute it."
   ]
  },
  {
   "cell_type": "markdown",
   "id": "b2f0cce9-5dd8-42a0-bad8-d30034c99049",
   "metadata": {},
   "source": [
    "5. How many global scopes are there in a Python program? How many local scopes?\n",
    "- There's only one global Python scope per program execution. This scope remains in existence until the program terminates , and a local scope is created        whenever a function is called."
   ]
  },
  {
   "cell_type": "markdown",
   "id": "366fc51d-bced-4f79-8d52-b04f75fba97a",
   "metadata": {},
   "source": [
    "6. What happens to variables in a local scope when the function call returns?\n",
    "- When a function returns, The variable gets eliminated."
   ]
  },
  {
   "cell_type": "markdown",
   "id": "65bbac4a-3a9f-4311-bdbc-d82f38d44cd0",
   "metadata": {},
   "source": [
    "7. What is the concept of a return value? Is it possible to have a return value in an expression?\n",
    "- It ends the execution of a function and returns the value which is written besides the return keyword. return value is a part of the execution."
   ]
  },
  {
   "cell_type": "markdown",
   "id": "e09bd0ad-9820-42b2-9f27-2ea0522b385e",
   "metadata": {},
   "source": [
    "8. If a function does not have a return statement, what is the return value of a call to that function?\n",
    "- It will return nothing\n"
   ]
  },
  {
   "cell_type": "markdown",
   "id": "b6fb560e-bdd6-41d3-8a79-57906143ab87",
   "metadata": {},
   "source": [
    "9. How do you make a function variable refer to the global variable?\n",
    "- To use the global variable one can use the keyword global so that function will refer the global variable only."
   ]
  },
  {
   "cell_type": "markdown",
   "id": "172bc5bc-c0a3-45e5-80d0-bbda78a72e29",
   "metadata": {},
   "source": [
    "10. What is the data type of None?\n",
    "- None has no data type in python it is very special value"
   ]
  },
  {
   "cell_type": "markdown",
   "id": "dfd306aa-7236-4263-a5ba-d659c1d83b79",
   "metadata": {},
   "source": [
    "11. What does the sentence import areallyourpetsnamederic do?\n",
    "- command import will import a package named areallyourpetsnamederic\n"
   ]
  },
  {
   "cell_type": "markdown",
   "id": "8292a146-120a-4dab-ae49-4119d188ebda",
   "metadata": {},
   "source": [
    "12. If you had a bacon() feature in a spam module, what would you call it after importing spam?\n",
    "- spam.bacon()"
   ]
  },
  {
   "cell_type": "markdown",
   "id": "d4c4d896-14b5-4fca-abf4-cacfa51ae042",
   "metadata": {},
   "source": [
    "\n",
    "13. What can you do to save a programme from crashing if it encounters an error?\n",
    "- By using error handling techniques for instance try and except\n"
   ]
  },
  {
   "cell_type": "markdown",
   "id": "76a4ca62-ea2e-4450-b9b0-00e45aeda0c5",
   "metadata": {},
   "source": [
    "14. What is the purpose of the try clause? What is the purpose of the except clause?\n",
    "- try clause let us test the block of code if it works or not.\n",
    "- except clause let us handle the error."
   ]
  },
  {
   "cell_type": "code",
   "execution_count": null,
   "id": "96027690-38d6-499d-a480-51040e040b8a",
   "metadata": {},
   "outputs": [],
   "source": []
  }
 ],
 "metadata": {
  "kernelspec": {
   "display_name": "Python 3 (ipykernel)",
   "language": "python",
   "name": "python3"
  },
  "language_info": {
   "codemirror_mode": {
    "name": "ipython",
    "version": 3
   },
   "file_extension": ".py",
   "mimetype": "text/x-python",
   "name": "python",
   "nbconvert_exporter": "python",
   "pygments_lexer": "ipython3",
   "version": "3.11.8"
  }
 },
 "nbformat": 4,
 "nbformat_minor": 5
}

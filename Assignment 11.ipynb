{
 "cells": [
  {
   "cell_type": "markdown",
   "metadata": {},
   "source": [
    "1. What is the role of the 'else' block in a try-except statement? Provide an example scenario where it would be useful.\n",
    "\n",
    "- The else block is executed only if no exceptions are raised in the try block. It provides an alternative path for code execution when everything goes smoothly."
   ]
  },
  {
   "cell_type": "code",
   "execution_count": 2,
   "metadata": {},
   "outputs": [
    {
     "name": "stdout",
     "output_type": "stream",
     "text": [
      "Yeah! Your answer is: 1\n",
      "No exceptions! Your answer is: 1\n",
      "Sorry! You are dividing by zero\n"
     ]
    }
   ],
   "source": [
    "def divide(x, y):\n",
    "    try:\n",
    "        result = x // y  \n",
    "        print(\"Yeah! Your answer is:\", result)\n",
    "    except ZeroDivisionError:\n",
    "        print(\"Sorry! You are dividing by zero\")\n",
    "    else:\n",
    "        print(\"No exceptions! Your answer is:\", result)\n",
    "\n",
    "\n",
    "divide(3, 2)  \n",
    "divide(3, 0)  "
   ]
  },
  {
   "cell_type": "markdown",
   "metadata": {},
   "source": [
    "2. Can a try-except block be nested inside another try-except block? Explain with an example.\n",
    "\n",
    "- Yes we can below is the eg of the same."
   ]
  },
  {
   "cell_type": "code",
   "execution_count": 3,
   "metadata": {},
   "outputs": [
    {
     "name": "stdout",
     "output_type": "stream",
     "text": [
      "outer try block\n",
      "Inner try block\n",
      "Inner finally block\n",
      "outer finally block\n"
     ]
    }
   ],
   "source": [
    "try:\n",
    "   print(\"outer try block\")\n",
    "   try:\n",
    "       print(\"Inner try block\")\n",
    "   except ZeroDivisionError:\n",
    "       print(\"Inner except block\")\n",
    "   finally:\n",
    "       print(\"Inner finally block\")\n",
    "except:\n",
    "   print(\"outer except block\")\n",
    "finally:\n",
    "   print(\"outer finally block\")"
   ]
  },
  {
   "cell_type": "markdown",
   "metadata": {},
   "source": [
    "3. How can you create a custom exception class in Python? Provide an example that demonstrates its usage.\n",
    "\n",
    "- In Python, you can create custom exception classes by defining new classes that inherit from the built-in Exception class. These custom exceptions allow you to handle specific error scenarios in a more meaningful way.\n"
   ]
  },
  {
   "cell_type": "code",
   "execution_count": 13,
   "metadata": {},
   "outputs": [
    {
     "name": "stdout",
     "output_type": "stream",
     "text": [
      "Exception occurred: Invalid age\n"
     ]
    }
   ],
   "source": [
    "class InvalidAgeException(Exception):\n",
    "    \"\"\"Raised when the input value is less than 18.\"\"\"\n",
    "    pass\n",
    "\n",
    "try:\n",
    "    number = 18  # The minimum age for voting\n",
    "    input_num = int(input(\"Enter your age: \"))\n",
    "    if input_num < number:\n",
    "        raise InvalidAgeException\n",
    "    else:\n",
    "        print(\"You are eligible to vote!\")\n",
    "except InvalidAgeException:\n",
    "    print(\"Exception occurred: Invalid age\")\n"
   ]
  },
  {
   "cell_type": "markdown",
   "metadata": {},
   "source": [
    "4. What are some common exceptions that are built-in to Python?\n",
    "\n",
    "-ZeroDivisionError: Raised when attempting to divide by zero.\n",
    "\n",
    "-NameError: Occurs when a variable or name is not found in the current scope.\n",
    "\n",
    "-IndentationError: Indicates incorrect indentation (usually related to spaces or tabs) in the code.\n",
    "\n",
    "-IOError: Raised when an input/output operation fails (e.g., file not found, permission denied).\n",
    "\n",
    "-EOFError: Signals that the end of a file or input stream has been reached unexpectedly."
   ]
  },
  {
   "cell_type": "markdown",
   "metadata": {},
   "source": [
    "5. What is logging in Python, and why is it important in software development?\n",
    "\n",
    "- Python logging is a module that allows you to track events that occur while your program is running. You can use logging to record information about errors, warnings, and other events that occur during program execution. And logging is a useful tool for debugging, troubleshooting, and monitoring your program."
   ]
  },
  {
   "cell_type": "markdown",
   "metadata": {},
   "source": [
    "6. Explain the purpose of log levels in Python logging and provide examples of when\n",
    "each log level would be appropriate.\n",
    "\n",
    "- Log levels relate to the “importance” of the log. For example, an “error” log is a top priority and should be considered more urgent than a “warn” log. A “debug” log is usually only useful when the application is being debugged.\n",
    "\n",
    "\n",
    "logging.NOTSET (0)\n",
    "\n",
    "When set on a logger, indicates that ancestor loggers are to be consulted to determine the effective level. If that still resolves to NOTSET, then all events are logged. When set on a handler, all events are handled.\n",
    "\n",
    "logging.DEBUG\n",
    "10\n",
    "\n",
    "Detailed information, typically only of interest to a developer trying to diagnose a problem.\n",
    "\n",
    "logging.INFO\n",
    "20\n",
    "\n",
    "Confirmation that things are working as expected.\n",
    "\n",
    "logging.WARNING\n",
    "30\n",
    "\n",
    "An indication that something unexpected happened, or that a problem might occur in the near future (e.g. ‘disk space low’). The software is still working as expected.\n",
    "\n",
    "logging.ERROR\n",
    "40\n",
    "\n",
    "Due to a more serious problem, the software has not been able to perform some function.\n",
    "\n",
    "logging.CRITICAL\n",
    "50\n",
    "\n",
    "A serious error, indicating that the program itself may be unable to continue running."
   ]
  },
  {
   "cell_type": "markdown",
   "metadata": {},
   "source": [
    "7. What are log formatters in Python logging, and how can you customise the log\n",
    "message format using formatters?\n",
    "\n",
    "- Log formatters in Python’s logging module allow you to customize the format of log messages. They determine how log records are presented when written to various outputs (such as files, console, or remote servers)."
   ]
  },
  {
   "cell_type": "code",
   "execution_count": 14,
   "metadata": {},
   "outputs": [],
   "source": [
    "import logging\n",
    "\n",
    "# Create a custom formatter\n",
    "formatter = logging.Formatter('%(asctime)s [%(levelname)s] %(message)s')\n",
    "\n",
    "# Create a logger and add a handler (e.g., StreamHandler)\n",
    "logger = logging.getLogger('my_logger')\n",
    "handler = logging.StreamHandler()\n",
    "handler.setFormatter(formatter)\n",
    "logger.addHandler(handler)\n",
    "\n",
    "# Log a message\n",
    "logger.info('Custom log message')\n"
   ]
  },
  {
   "cell_type": "markdown",
   "metadata": {},
   "source": [
    "8. How can you set up logging to capture log messages from multiple modules or\n",
    "classes in a Python application?"
   ]
  },
  {
   "cell_type": "markdown",
   "metadata": {},
   "source": [
    "9. What is the difference between the logging and print statements in Python? When\n",
    "should you use logging over print statements in a real-world application?\n",
    "\n",
    "- Logging is a technique to record events and errors that occur during the execution of Python programs. The print statement is a built-in function that displays specified values to the console.\n",
    "\n",
    "-When to choose loggging.\n",
    "\n",
    "1. Real-World Applications: In production code, always prefer logging over print statements.\n",
    "\n",
    "2. Scalability and Maintainability: Logging provides a more professional and scalable approach for debugging, monitoring, and maintaining applications.\n",
    "\n",
    "3. Debugging Complexity: For complex scripts, printing falls short, and logging becomes essential."
   ]
  },
  {
   "cell_type": "markdown",
   "metadata": {},
   "source": [
    "10. Write a Python program that logs a message to a file named \"app.log\" with the\n",
    "following requirements:\n",
    "\n",
    "● The log message should be \"Hello, World!\"\n",
    "\n",
    "● The log level should be set to \"INFO.\"\n",
    "\n",
    "● The log file should append new log entries without overwriting previous ones."
   ]
  },
  {
   "cell_type": "code",
   "execution_count": 17,
   "metadata": {},
   "outputs": [],
   "source": [
    "import logging\n",
    "\n",
    "# Configure logging to write to a file\n",
    "logging.basicConfig(\n",
    "    filename='app.log',\n",
    "    level=logging.INFO,\n",
    "    format='%(asctime)s [%(levelname)s] %(message)s',\n",
    "    filemode='a'  # Append mode\n",
    ")\n",
    "\n",
    "# Log the message\n",
    "logging.info('Hello, World!')\n",
    "\n"
   ]
  },
  {
   "cell_type": "markdown",
   "metadata": {},
   "source": [
    "11. Create a Python program that logs an error message to the console and a file named \"errors.log\" if an exception occurs during the program's execution. The error message should include the exception type and a timestamp."
   ]
  },
  {
   "cell_type": "code",
   "execution_count": 18,
   "metadata": {},
   "outputs": [],
   "source": [
    "import logging\n",
    "import sys\n",
    "\n",
    "def main():\n",
    "    # Configure logging to write to console and file\n",
    "    logging.basicConfig(\n",
    "        level=logging.ERROR,\n",
    "        format='%(asctime)s [%(levelname)s] %(message)s',\n",
    "        handlers=[\n",
    "            logging.StreamHandler(sys.stdout),  # Console output\n",
    "            logging.FileHandler('errors.log', mode='a'),  # Append mode for file\n",
    "        ]\n",
    "    )\n",
    "\n",
    "    try:\n",
    "        # Your program code here\n",
    "        result = 10 / 0  # Example: Division by zero to trigger an exception\n",
    "    except Exception as e:\n",
    "        # Log the exception\n",
    "        logging.error(f'Exception occurred: {type(e).__name__} - {e}')\n",
    "\n",
    "if __name__ == '__main__':\n",
    "    main()\n"
   ]
  },
  {
   "cell_type": "code",
   "execution_count": null,
   "metadata": {},
   "outputs": [],
   "source": []
  },
  {
   "cell_type": "code",
   "execution_count": null,
   "metadata": {},
   "outputs": [],
   "source": []
  },
  {
   "cell_type": "code",
   "execution_count": null,
   "metadata": {},
   "outputs": [],
   "source": []
  },
  {
   "cell_type": "code",
   "execution_count": null,
   "metadata": {},
   "outputs": [],
   "source": []
  },
  {
   "cell_type": "code",
   "execution_count": null,
   "metadata": {},
   "outputs": [],
   "source": []
  },
  {
   "cell_type": "code",
   "execution_count": null,
   "metadata": {},
   "outputs": [],
   "source": []
  }
 ],
 "metadata": {
  "kernelspec": {
   "display_name": "Python 3",
   "language": "python",
   "name": "python3"
  },
  "language_info": {
   "codemirror_mode": {
    "name": "ipython",
    "version": 3
   },
   "file_extension": ".py",
   "mimetype": "text/x-python",
   "name": "python",
   "nbconvert_exporter": "python",
   "pygments_lexer": "ipython3",
   "version": "3.9.6"
  }
 },
 "nbformat": 4,
 "nbformat_minor": 2
}

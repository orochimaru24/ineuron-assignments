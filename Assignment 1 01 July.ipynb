{
 "cells": [
  {
   "cell_type": "markdown",
   "metadata": {},
   "source": [
    "1. What is the primary goal of Object-Oriented Programming (OOP)?\n",
    "\n",
    "- Encapsulation: Bundling data and methods together within a class, ensuring controlled access.\n",
    "\n",
    "- Inheritance: Creating new classes based on existing ones, inheriting their properties and behaviors.\n",
    "\n",
    "- Polymorphism: Allowing objects of different classes to be treated uniformly through common interfaces.\n",
    "\n",
    "- Abstraction: Hiding complex implementation details and exposing only essential features."
   ]
  },
  {
   "cell_type": "markdown",
   "metadata": {},
   "source": [
    "2. What is an object in Python?\n",
    "\n",
    "- In Python, an object is a fundamental building block of object-oriented programming (OOP).\n",
    "\n",
    "1. Definition of object.\n",
    "- An object represents a real-world entity or concept.\n",
    "- It combines data (attributes) and methods (functions) that operate on that data.\n",
    "- In Python, almost everything is an object. Strings, numbers, functions, and even custom classes are all objects.\n",
    "\n",
    "2. Attributes and Behaviors:\n",
    "- Attributes: These are the data variables associated with an object.\n",
    "- Example: For a parrot object, attributes could include name, age, and color.\n",
    "- Behaviors (Methods): These are the functions that an object can perform.\n",
    "- Example: A parrot object might have methods like sing() and dance().\n",
    "\n",
    "3. Creating Objects:\n",
    "- To create an object, you first define a class (like a blueprint).\n",
    "- An instance of that class is an actual object with specific values for its attributes.\n"
   ]
  },
  {
   "cell_type": "code",
   "execution_count": 2,
   "metadata": {},
   "outputs": [
    {
     "name": "stdout",
     "output_type": "stream",
     "text": [
      "Car 100000\n"
     ]
    }
   ],
   "source": [
    "class Car:\n",
    "    vehicle = 'Car'\n",
    "\n",
    "    def __init__(self, model, price):\n",
    "        self.model = model\n",
    "        self.price = price\n",
    "\n",
    "Audi = Car(\"R8\", 100000)\n",
    "print(Audi.vehicle, Audi.price)  # Output: Car\n"
   ]
  },
  {
   "cell_type": "markdown",
   "metadata": {},
   "source": [
    "3. What is a class in Python?\n",
    "\n",
    "- a class serves as a fundamental construct in object-oriented programming (OOP).\n",
    "- A class acts as a blueprint or template for creating objects.\n",
    "- It binds together data members (attributes) and methods (functions) into a single unit.\n",
    "- Think of a class as a recipe for creating specific types of objects."
   ]
  },
  {
   "cell_type": "markdown",
   "metadata": {},
   "source": [
    "4. What are attributes and methods in a class?\n",
    "\n",
    "1 Attributes: These are variables associated with an object.\n",
    "- For instance, a Car class might have attributes like model and price.\n",
    "\n",
    "2 Methods: These are functions that operate on the object’s data.\n",
    "- A Car class could have methods like start_engine() or accelerate()."
   ]
  },
  {
   "cell_type": "markdown",
   "metadata": {},
   "source": [
    ". What is the difference between class variables and instance variables in Python?\n",
    "\n",
    "\n",
    "1.  Class Variables:\n",
    "- Definition: Class variables are declared within a class and their values are shared among all instances of that class.\n",
    "- Scope: They exist at the class level, not tied to any specific instance.\n",
    "- Initialization: You define class variables outside any method in the class.\n",
    "- Shared Value: All objects (instances) of the class access the same value for a class variable.\n",
    "- Use Cases:\n",
    "- When you want a value to be consistent across all instances.\n",
    "- For constants or default settings applicable to all objects of the class.\n",
    "\n",
    "3. Instance Variables:\n",
    "- Definition: Instance variables are specific to each object (instance) created from the class.\n",
    "- Scope: They exist at the instance level, tied to a particular object.\n",
    "- Initialization: You define instance variables inside the constructor (__init__) using self.\n",
    "- Unique Values: Each object can have different values for its instance variables.\n",
    "- Use Cases:\n",
    "- When you expect variables to vary significantly across instances.\n",
    "- For storing data specific to individual objects."
   ]
  },
  {
   "cell_type": "markdown",
   "metadata": {},
   "source": [
    "6. What is the purpose of the self parameter in Python class methods?\n",
    "\n",
    "- When you define a method within a class, the first parameter (usually named self) represents the current instance of that class.\n",
    "- It acts as a reference to the object on which the method is called.\n",
    "- Essentially, self allows you to access and manipulate the attributes and methods specific to that instance.\n",
    "- By explicitly including self as the first parameter, you indicate that the method operates on the current instance.\n"
   ]
  },
  {
   "cell_type": "markdown",
   "metadata": {},
   "source": [
    ". For a library management system, you have to design the \"Book\" class with OOP principles in mind. The “Book” class will have following attributes:\n",
    "\n",
    "1. title: Represents the title of the book.\n",
    "2. author: Represents the author(s) of the book.\n",
    "3. isbn: Represents the ISBN (International Standard Book Number) of the book.\n",
    "4. publication_year: Represents the year of publication of the book.\n",
    "5. available_copies: Represents the number of copies available for checkout.\n",
    "- The class will also include the following methods:\n",
    "1. check_out(self): Decrements the available copies by one if there are copies\n",
    "available for checkout.\n",
    "2. return_book(self): Increments the available copies by one when a book is\n",
    "returned.\n",
    "3. display_book_info(self): Displays the information about the book, including its\n",
    "attributes and the number of available copies."
   ]
  },
  {
   "cell_type": "code",
   "execution_count": 7,
   "metadata": {},
   "outputs": [
    {
     "name": "stdout",
     "output_type": "stream",
     "text": [
      "How to win people and influence people is ready for checkout.\n",
      "Book information\n",
      "Title: How to win people and influence people\n",
      "Author: Dane carnegi\n",
      "ISBN: 1234567890\n",
      "Publication Year:1980\n",
      "Available copies:68\n",
      "How to win people and influence people is returned successfully.\n",
      "Book information\n",
      "Title: How to win people and influence people\n",
      "Author: Dane carnegi\n",
      "ISBN: 1234567890\n",
      "Publication Year:1980\n",
      "Available copies:69\n"
     ]
    }
   ],
   "source": [
    "class Book:\n",
    "    \n",
    "    def __init__(self,title,author,isbn,publication_year,available_copies):\n",
    "        self.title = title\n",
    "        self.author = author\n",
    "        self.isbn = isbn\n",
    "        self.publication_year = publication_year\n",
    "        self.available_copies = available_copies\n",
    "\n",
    "    def check_out(self):\n",
    "        \n",
    "        if self.available_copies > 0:\n",
    "            self.available_copies -= 1\n",
    "            print(f\"{self.title} is ready for checkout.\")\n",
    "\n",
    "        else:\n",
    "            print(f\"Sorry. {self.title} is not available for check out.\")\n",
    "\n",
    "\n",
    "    def return_book(self):\n",
    "        self.available_copies += 1\n",
    "        print(f\"{self.title} is returned successfully.\")\n",
    "\n",
    "\n",
    "    def display_book_info(self):\n",
    "        print(f\"Book information\")\n",
    "        print(f\"Title: {self.title}\")\n",
    "        print(f\"Author: {self.author}\")\n",
    "        print(f\"ISBN: {self.isbn}\")\n",
    "        print(f\"Publication Year:{self.publication_year}\")\n",
    "        print(f\"Available copies:{self.available_copies}\")   \n",
    "\n",
    "bookd = Book(\"How to win people and influence people\",\"Dane carnegi\",1234567890,1980,69)\n",
    "\n",
    "bookd.check_out()\n",
    "bookd.display_book_info()\n",
    "bookd.return_book()\n",
    "bookd.display_book_info()\n"
   ]
  },
  {
   "cell_type": "markdown",
   "metadata": {},
   "source": [
    "8. For a ticket booking system, you have to design the \"Ticket\" class with OOP principles in mind. The “Ticket” class should have the following attributes:\n",
    "\n",
    "a. ticket_id: Represents the unique identifier for the ticket.\n",
    "\n",
    "b. event_name: Represents the name of the event.\n",
    "\n",
    "c. event_date: Represents the date of the event.\n",
    "\n",
    "d. venue: Represents the venue of the event.\n",
    "\n",
    "e. seat_number: Represents the seat number associated with the ticket.\n",
    "\n",
    "f. price: Represents the price of the ticket.\n",
    "\n",
    "g. is_reserved: Represents the reservation status of the ticket.\n",
    "\n",
    "- The class also includes the following methods:\n",
    "\n",
    "a. reserve_ticket(self): Marks the ticket as reserved if it is not already reserved.\n",
    "\n",
    "b. cancel_reservation(self): Cancels the reservation of the ticket if it is already\n",
    "reserved.\n",
    "\n",
    "c. display_ticket_info(self): Displays the information about the ticket, including its\n",
    "attributes and reservation status."
   ]
  },
  {
   "cell_type": "code",
   "execution_count": 16,
   "metadata": {},
   "outputs": [
    {
     "name": "stdout",
     "output_type": "stream",
     "text": [
      "Ticket 123445 is reserved successfully\n",
      "Ticket 123445 is already reserved.\n",
      "Reservation for Ticket 123445 canceled.\n",
      "Ticket 123445 is not reserved.\n",
      "Ticket 123445 is reserved successfully\n",
      "Ticket information\n",
      "Ticket id:123445\n",
      "Event name:Lok_sabha\n",
      "Event date:15-12-2024\n",
      "Venue: Aligadh\n",
      "Sear Number:479\n",
      "Price:46990\n",
      "Reservation status:Reserved\n"
     ]
    }
   ],
   "source": [
    "class Ticket:\n",
    "\n",
    "    def __init__(self,ticket_id,event_name,event_date,venue,seat_number,price):\n",
    "        self.ticket_id = ticket_id\n",
    "        self.event_name = event_name\n",
    "        self.event_date = event_date\n",
    "        self.venue = venue\n",
    "        self.seat_number = seat_number\n",
    "        self.price = price\n",
    "        self.is_reserved = False # initially not reserved.\n",
    "    \n",
    "    def reserve_ticket(self):\n",
    "        if not self.is_reserved:\n",
    "            self.is_reserved = True\n",
    "            print(f\"Ticket {self.ticket_id} is reserved successfully\")\n",
    "\n",
    "        else:\n",
    "            print(f\"Ticket {self.ticket_id} is already reserved.\")\n",
    "\n",
    "\n",
    "    def cancel_reservation(self):\n",
    "        if self.is_reserved:\n",
    "            self.is_reserved = False\n",
    "            print(f\"Reservation for Ticket {self.ticket_id} canceled.\")\n",
    "        else:\n",
    "            print(f\"Ticket {self.ticket_id} is not reserved.\")\n",
    "\n",
    "    def display_ticket_info(self):\n",
    "        print(f\"Ticket information\")\n",
    "        print(f\"Ticket id:{self.ticket_id}\")\n",
    "        print(f\"Event name:{self.event_name}\")\n",
    "        print(f\"Event date:{self.event_date}\")\n",
    "        print(f\"Venue: {self.venue}\")\n",
    "        print(f\"Sear Number:{self.seat_number}\")\n",
    "        print(f\"Price:{self.price}\")\n",
    "        print(f\"Reservation status:{'Reserved' if self.is_reserved else 'Not reserved'}\")\n",
    "\n",
    "\n",
    "ticket1 = Ticket(123445,\"Lok_sabha\",\"15-12-2024\",\"Aligadh\",479,46990)\n",
    "\n",
    "ticket1.reserve_ticket()\n",
    "ticket1.reserve_ticket()\n",
    "\n",
    "ticket1.cancel_reservation()\n",
    "ticket1.cancel_reservation()\n",
    "\n",
    "ticket1.reserve_ticket()\n",
    "\n",
    "ticket1.display_ticket_info()"
   ]
  },
  {
   "cell_type": "code",
   "execution_count": null,
   "metadata": {},
   "outputs": [],
   "source": []
  },
  {
   "cell_type": "code",
   "execution_count": null,
   "metadata": {},
   "outputs": [],
   "source": []
  },
  {
   "cell_type": "code",
   "execution_count": null,
   "metadata": {},
   "outputs": [],
   "source": []
  },
  {
   "cell_type": "code",
   "execution_count": null,
   "metadata": {},
   "outputs": [],
   "source": [
    "\n",
    "\n",
    "\n"
   ]
  }
 ],
 "metadata": {
  "kernelspec": {
   "display_name": "Python 3",
   "language": "python",
   "name": "python3"
  },
  "language_info": {
   "codemirror_mode": {
    "name": "ipython",
    "version": 3
   },
   "file_extension": ".py",
   "mimetype": "text/x-python",
   "name": "python",
   "nbconvert_exporter": "python",
   "pygments_lexer": "ipython3",
   "version": "3.9.6"
  }
 },
 "nbformat": 4,
 "nbformat_minor": 2
}

{
 "cells": [
  {
   "cell_type": "markdown",
   "metadata": {},
   "source": [
    "Q.1. Create two int type variables, apply addition, subtraction, division and multiplications and store the results in variables. Then print the data in the following format by calling the variables:\n",
    "\n",
    "First variable is __ & second variable is __. Addition: __ + __ = __\n",
    "\n",
    "Subtraction: __ - __ = __\n",
    "\n",
    "Multiplication: __ * __ = __\n",
    "\n",
    "Division: __ / __ = __\n"
   ]
  },
  {
   "cell_type": "code",
   "execution_count": 11,
   "metadata": {},
   "outputs": [
    {
     "name": "stdout",
     "output_type": "stream",
     "text": [
      "First variable is 69 & second variable is 56 . Addition:  69  +  56  =  125\n",
      "First variable is 69 & second variable is 56 . Substraction:  69  -  56  =  13\n",
      "First variable is 69 & second variable is 56 . Multiplication:  69  *  56  =  3864\n",
      "First variable is 69 & second variable is 56 . Division:  69  /  56  =  1.2321428571428572\n"
     ]
    }
   ],
   "source": [
    "a = 69\n",
    "b = 56\n",
    "substraction = a - b \n",
    "multiplication = a*b\n",
    "division = a/b\n",
    "addition = a + b\n",
    "\n",
    "print(\"First variable is\" , a , \"& second variable is\" , b , \". Addition: \" , a , \" + \" , b , \" = \" , addition)\n",
    "print(\"First variable is\" , a , \"& second variable is\" , b , \". Substraction: \" , a , \" - \" , b , \" = \" , substraction)\n",
    "print(\"First variable is\" , a , \"& second variable is\" , b , \". Multiplication: \" , a , \" * \" , b , \" = \" , multiplication)\n",
    "print(\"First variable is\" , a , \"& second variable is\" , b , \". Division: \" , a , \" / \" , b , \" = \" , division)"
   ]
  },
  {
   "cell_type": "markdown",
   "metadata": {},
   "source": [
    "\n",
    "Q.2. What is the difference between the following operators:\n",
    "\n",
    "(i) ‘/’ & ‘//’\n",
    "\n",
    "- Here only '/'  symbol will give us result is float whereas '//' will give us integer. Please refer below example.\n",
    "\n",
    "(ii) ‘**’ & ‘^’\n",
    "\n",
    "- '**' raises the left operand to the power of the right operand. Please refer eg.\n",
    "\n",
    "- '^' performs the XOR operation on corresponding bits of two integers. Please refer eg."
   ]
  },
  {
   "cell_type": "code",
   "execution_count": 15,
   "metadata": {},
   "outputs": [
    {
     "name": "stdout",
     "output_type": "stream",
     "text": [
      "1.0 & 1\n",
      "3125 & 0\n"
     ]
    }
   ],
   "source": [
    "x = 5/5\n",
    "y = 5//5\n",
    "print(x, \"&\", y)\n",
    "\n",
    "q = 5**5\n",
    "w = 5^5\n",
    "print(q, \"&\", w)"
   ]
  },
  {
   "cell_type": "markdown",
   "metadata": {},
   "source": [
    "Q.3. List the logical operators.\n",
    "\n",
    "Ans. and, not and or."
   ]
  },
  {
   "cell_type": "markdown",
   "metadata": {},
   "source": [
    "Q.4. Explain right shift operator and left shift operator with examples.\n",
    "\n",
    "- Left Shift (<<): The left shift operator takes two numbers. It shifts the bits of the first operand to the left, and the second operand specifies the number of places to shift."
   ]
  },
  {
   "cell_type": "code",
   "execution_count": 17,
   "metadata": {},
   "outputs": [
    {
     "name": "stdout",
     "output_type": "stream",
     "text": [
      "20\n"
     ]
    }
   ],
   "source": [
    "a = 5  # Binary: 101\n",
    "b = 2\n",
    "result = a << b  # Equivalent to a * (2^b)\n",
    "print(result)  #  (Binary: 10100)"
   ]
  },
  {
   "cell_type": "markdown",
   "metadata": {},
   "source": [
    "Right Shift (>>): The right shift operator also takes two numbers. It shifts the bits of the first operand to the right, and the second operand determines the number of places to shift."
   ]
  },
  {
   "cell_type": "code",
   "execution_count": 19,
   "metadata": {},
   "outputs": [
    {
     "name": "stdout",
     "output_type": "stream",
     "text": [
      "1\n"
     ]
    }
   ],
   "source": [
    "a = 5  # Binary: 101\n",
    "b = 2\n",
    "result = a >> b  # Equivalent to a / (2^b)\n",
    "print(result)  #  (Binary: 01)"
   ]
  },
  {
   "cell_type": "markdown",
   "metadata": {},
   "source": [
    "Q.5. Create a list containing int type data of length 15. Then write a code to check if 10 is present in the list or not."
   ]
  },
  {
   "cell_type": "code",
   "execution_count": 21,
   "metadata": {},
   "outputs": [
    {
     "name": "stdout",
     "output_type": "stream",
     "text": [
      "[1, 2, 3, 4, 5, 6, 7, 8, 9, 10, 11, 12, 13, 14, 15]\n",
      "The number 10 is there in the list!\n"
     ]
    }
   ],
   "source": [
    "list1 = [1,2,3,4,5,6,7,8,9,10,11,12,13,14,15]\n",
    "print(list1)\n",
    "\n",
    "if 10 in list1:\n",
    "    print(\"The number 10 is there in the list!\")\n",
    "else:\n",
    "    print(\"Sorry 10 is not there in the list!!\")     "
   ]
  },
  {
   "cell_type": "code",
   "execution_count": null,
   "metadata": {},
   "outputs": [],
   "source": []
  }
 ],
 "metadata": {
  "kernelspec": {
   "display_name": "Python 3",
   "language": "python",
   "name": "python3"
  },
  "language_info": {
   "codemirror_mode": {
    "name": "ipython",
    "version": 3
   },
   "file_extension": ".py",
   "mimetype": "text/x-python",
   "name": "python",
   "nbconvert_exporter": "python",
   "pygments_lexer": "ipython3",
   "version": "3.9.6"
  }
 },
 "nbformat": 4,
 "nbformat_minor": 2
}

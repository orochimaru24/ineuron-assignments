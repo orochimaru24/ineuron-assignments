{
 "cells": [
  {
   "cell_type": "markdown",
   "metadata": {},
   "source": [
    "1. Explain what inheritance is in object-oriented programming and why it is used.\n",
    "\n",
    "- it’s a way to derive new classes from existing ones.\n",
    "- The class that inherits from another class is called a subclass or child class, while the class being inherited from is known as the parent class, superclass, or base class.\n",
    "- Inheritance enables you to build upon existing functionality without duplicating code.\n",
    "\n",
    "- Code Reusability: Inheritance allows you to share common attributes and methods among related classes. Instead of rewriting the same code for each class, you can create a base class with shared functionality and then extend it to create specialized subclasses.\n",
    "- Modularity: By organizing code into classes and using inheritance, you achieve a modular structure. Each class focuses on a specific aspect of your application, making it easier to manage and maintain.\n",
    "- Efficiency: When you need to make changes or enhancements, you can do so in the base class. All derived classes automatically inherit these modifications, reducing the effort required to update multiple places in your code.\n",
    "- Polymorphism: Inheritance is closely tied to polymorphism, another OOP concept. Polymorphism allows you to treat objects of different classes uniformly, as long as they share a common base class. This flexibility simplifies code design and promotes extensibility.\n"
   ]
  },
  {
   "cell_type": "markdown",
   "metadata": {},
   "source": [
    "2. Discuss the concept of single inheritance and multiple inheritance, highlighting their differences and advantages.\n",
    "\n",
    "- Single inheritance occurs when a subclass inherits from a single superclass. In other words, the derived class has only one direct parent class. \n",
    "\n",
    "- Multiple inheritance occurs when a child class inherits from more than one base class. Although Python allows multiple inheritance, it should be used judiciously due to the following reasons:\n",
    "\n",
    "1. Complexity: Managing multiple parent classes can become intricate.\n",
    "2. Safety: Single inheritance is simpler, safer, and easier to understand and maintain.\n",
    "\n",
    "- Single Inheritance:\n",
    "1. Subclass inherits from a single superclass.\n",
    "2. Simpler and straightforward.\n",
    "3. Easier to manage.\n",
    "4. Example: A Car class inheriting from a Vehicle class.\n",
    "\n",
    "- Multiple Inheritance:\n",
    "1. Subclass inherits from multiple superclasses.\n",
    "2. Powerful but requires careful design.\n",
    "3. Can lead to method resolution order (MRO) complexities.\n",
    "4. Example: A FlyingCar class inheriting from both Car and Aircraft classes.\n"
   ]
  },
  {
   "cell_type": "markdown",
   "metadata": {},
   "source": [
    "3. Explain the terms \"base class\" and \"derived class\" in the context of inheritance.\n",
    "\n",
    "- Base Class (Superclass):\n",
    "1. A base class (also known as a superclass or parent class) is the class from which other classes inherit properties (attributes) and behaviors (methods).\n",
    "2. It serves as the foundation for creating new classes.\n",
    "3. Base classes define common attributes and methods that can be shared by multiple subclasses.\n",
    "4. Example: Consider a Vehicle class with attributes like color, fuel_type, and methods like start_engine() and stop_engine(). The Car and Motorcycle classes can inherit from this base class.\n",
    "\n",
    "- Derived Class (Subclass):\n",
    "1. A derived class (also known as a subclass or child class) is a class that inherits properties and behaviors from a base class.\n",
    "2. It extends or specializes the functionality of the base class by adding new attributes or overriding existing methods.\n",
    "3. Derived classes can have additional attributes and methods specific to their own context.\n",
    "4. Example: If we create a Car class that inherits from the Vehicle base class, it can add specific attributes like num_doors and methods like accelerate()."
   ]
  },
  {
   "cell_type": "markdown",
   "metadata": {},
   "source": [
    "4. What is the significance of the \"protected\" access modifier in inheritance? How does it differ from \"private\" and \"public\" modifiers?\n",
    "\n",
    "- Public Access Modifier:\n",
    "1. Members (attributes and methods) declared as public are accessible from any part of the program.\n",
    "2. By default, all data members and member functions of a class are public.\n",
    "\n",
    "- Protected Access Modifier:\n",
    "1. Members declared as protected are accessible only within the class and its subclasses (derived classes).\n",
    "2. To make a member protected, add a single underscore (_) before its name."
   ]
  },
  {
   "cell_type": "markdown",
   "metadata": {},
   "source": [
    "5. What is the purpose of the \"super\" keyword in inheritance? Provide an example.\n",
    "\n",
    "- The super() function allows you to refer to the parent class from within a subclass.\n",
    "- It enables you to call methods defined in the superclass, even when those methods are overridden in the subclass.\n",
    "- By using super(), you can extend and customize the functionality inherited from the parent class while still benefiting from it. "
   ]
  },
  {
   "cell_type": "code",
   "execution_count": 1,
   "metadata": {},
   "outputs": [
    {
     "name": "stdout",
     "output_type": "stream",
     "text": [
      "Employee ID: 103\n",
      "Name: Suraj Kumar\n",
      "Address: Noida\n",
      "Emails: KKK@gmails\n"
     ]
    }
   ],
   "source": [
    "class Employee:\n",
    "    def __init__(self, emp_id, name, address):\n",
    "        self.emp_id = emp_id\n",
    "        self.name = name\n",
    "        self.address = address\n",
    "\n",
    "class Freelancer(Employee):\n",
    "    def __init__(self, emp_id, name, address, emails):\n",
    "        super().__init__(emp_id, name, address)  # Call parent class's __init__\n",
    "        self.emails = emails\n",
    "\n",
    "# Creating an instance of Freelancer\n",
    "freelancer_1 = Freelancer(103, \"Suraj Kumar\", \"Noida\", \"KKK@gmails\")\n",
    "\n",
    "# Accessing attributes\n",
    "print(\"Employee ID:\", freelancer_1.emp_id)\n",
    "print(\"Name:\", freelancer_1.name)\n",
    "print(\"Address:\", freelancer_1.address)\n",
    "print(\"Emails:\", freelancer_1.emails)\n"
   ]
  },
  {
   "cell_type": "markdown",
   "metadata": {},
   "source": [
    "6. Create a base class called \"Vehicle\" with attributes like \"make\", \"model\", and \"year\". Then, create a derived class called \"Car\" that inherits from \"Vehicle\" and adds an attribute called \"fuel_type\". Implement appropriate methods in both classes."
   ]
  },
  {
   "cell_type": "code",
   "execution_count": 6,
   "metadata": {},
   "outputs": [
    {
     "name": "stdout",
     "output_type": "stream",
     "text": [
      "Audi\n",
      "RX9\n",
      "2019\n",
      "Diesel\n"
     ]
    }
   ],
   "source": [
    "class Vehicle:\n",
    "    def __init__(self,make,model,year):\n",
    "        self.make = make\n",
    "        self.model = model\n",
    "        self.year = year\n",
    "\n",
    "class Car(Vehicle):\n",
    "    def __init__(self, make, model, year, fuel_type):\n",
    "        super().__init__(make, model, year)  \n",
    "        self.fuel_type = fuel_type\n",
    "\n",
    "Car1 = Car(\"Audi\",\"RX9\",2019,\"Diesel\")\n",
    "\n",
    "print(Car1.make)\n",
    "print(Car1.model)\n",
    "print(Car1.year)\n",
    "print(Car1.fuel_type)"
   ]
  },
  {
   "cell_type": "markdown",
   "metadata": {},
   "source": [
    "7. Create a base class called \"Employee\" with attributes like \"name\" and \"salary.\" Derive two classes, \"Manager\" and \"Developer,\" from \"Employee.\" Add an additional attribute called \"department\" for the \"Manager\" class and \"programming_language\" for the \"Developer\" class.\n"
   ]
  },
  {
   "cell_type": "code",
   "execution_count": 13,
   "metadata": {},
   "outputs": [
    {
     "name": "stdout",
     "output_type": "stream",
     "text": [
      "Ahem has 10000 rupees.\n",
      "Gopi has 18000 rupees and Scary allocated.\n",
      "Rashi has 20000 rupees and C++ known.\n"
     ]
    }
   ],
   "source": [
    "class Employee :\n",
    "    def __init__(self,name,salary):\n",
    "        self.name = name\n",
    "        self.salary = salary\n",
    "\n",
    "    def display(self):\n",
    "        print(f\"{self.name} has {self.salary} rupees.\")\n",
    "\n",
    "class Manager(Employee):\n",
    "    def __init__(self, name, salary,department):\n",
    "        super().__init__(name, salary)\n",
    "        self.department = department\n",
    "\n",
    "    def display1(self):\n",
    "        print(f\"{self.name} has {self.salary} rupees and {self.department} allocated.\")    \n",
    "\n",
    "\n",
    "class Developer(Employee):\n",
    "    def __init__(self, name, salary,programming_language):\n",
    "        super().__init__(name, salary)        \n",
    "        self.programming_language = programming_language\n",
    "\n",
    "    def display2(self):\n",
    "        print(f\"{self.name} has {self.salary} rupees and {self.programming_language} known.\")    \n",
    "\n",
    "\n",
    "employee1 = Employee(\"Ahem\",10000)\n",
    "employee1.display()\n",
    "manager1 = Manager(\"Gopi\",18000,\"Scary\")\n",
    "manager1.display1()\n",
    "developer1 = Developer(\"Rashi\",20000,\"C++\")\n",
    "developer1.display2()\n"
   ]
  },
  {
   "cell_type": "markdown",
   "metadata": {},
   "source": [
    "8. Design a base class called \"Shape\" with attributes like \"colour\" and \"border_width.\" Create derived classes, \"Rectangle\" and \"Circle,\" that inherit from \"Shape\" and add specific attributes like \"length\" and \"width\" for the \"Rectangle\" class and \"radius\" for the \"Circle\" class."
   ]
  },
  {
   "cell_type": "code",
   "execution_count": 15,
   "metadata": {},
   "outputs": [
    {
     "name": "stdout",
     "output_type": "stream",
     "text": [
      "The shape has Red color and its border width is 79\n",
      "The rectangle is of White color and its l x b is 70 x 50 and its border width is 100\n",
      "The circle has radius of 5 mm and Popti color.\n"
     ]
    }
   ],
   "source": [
    "class Shape:\n",
    "    def __init__(self,color,border_width):\n",
    "        self.color = color\n",
    "        self.border_width = border_width\n",
    "    \n",
    "    def display(self):\n",
    "        print(f\"The shape has {self.color} color and its border width is {self.border_width}\")\n",
    "\n",
    "class Rectangle(Shape):\n",
    "    def __init__(self, color, border_width,length,width):\n",
    "        super().__init__(color, border_width)\n",
    "        self.length = length\n",
    "        self.width = width\n",
    "    \n",
    "    def display2(self):\n",
    "        print(f\"The rectangle is of {self.color} color and its l x b is {self.length} x {self.width} and its border width is {self.border_width}\")\n",
    "\n",
    "class Circle(Shape):\n",
    "    def __init__(self, color, border_width,radius):\n",
    "        super().__init__(color, border_width)\n",
    "        self.radius = radius\n",
    "\n",
    "    def display3(self):\n",
    "        print(f\"The circle has radius of {self.radius} mm and {self.color} color.\")\n",
    "\n",
    "\n",
    "Shape1 = Shape(\"Red\",\"79\")\n",
    "Rect = Rectangle(\"White\",100,70,50)\n",
    "circa = Circle(\"Popti\",60,5)\n",
    "\n",
    "Shape1.display()\n",
    "Rect.display2()\n",
    "circa.display3()"
   ]
  },
  {
   "cell_type": "markdown",
   "metadata": {},
   "source": [
    "9. Create a base class called \"Device\" with attributes like \"brand\" and \"model.\" Derive two classes, \"Phone\" and \"Tablet,\" from \"Device.\" Add specific attributes like \"screen_size\" for the \"Phone\" class and \"battery_capacity\" for the \"Tablet\" class.\n"
   ]
  },
  {
   "cell_type": "code",
   "execution_count": 16,
   "metadata": {},
   "outputs": [
    {
     "name": "stdout",
     "output_type": "stream",
     "text": [
      "Phone Info:\n",
      "Brand: Samsung, Model: Galaxy S21, Screen Size: 6.2 inches\n",
      "\n",
      "Tablet Info:\n",
      "Brand: Apple, Model: iPad Air, Battery Capacity: 8600 mAh\n"
     ]
    }
   ],
   "source": [
    "class Device:\n",
    "    def __init__(self, brand, model):\n",
    "        self.brand = brand\n",
    "        self.model = model\n",
    "\n",
    "class Phone(Device):\n",
    "    def __init__(self, brand, model, screen_size):\n",
    "        super().__init__(brand, model)  # Call parent class constructor\n",
    "        self.screen_size = screen_size\n",
    "\n",
    "    def display_info(self):\n",
    "        print(f\"Brand: {self.brand}, Model: {self.model}, Screen Size: {self.screen_size} inches\")\n",
    "\n",
    "class Tablet(Device):\n",
    "    def __init__(self, brand, model, battery_capacity):\n",
    "        super().__init__(brand, model)  # Call parent class constructor\n",
    "        self.battery_capacity = battery_capacity\n",
    "\n",
    "    def display_info(self):\n",
    "        print(f\"Brand: {self.brand}, Model: {self.model}, Battery Capacity: {self.battery_capacity} mAh\")\n",
    "\n",
    "# Example usage\n",
    "my_phone = Phone(brand=\"Samsung\", model=\"Galaxy S21\", screen_size=6.2)\n",
    "my_tablet = Tablet(brand=\"Apple\", model=\"iPad Air\", battery_capacity=8600)\n",
    "\n",
    "print(\"Phone Info:\")\n",
    "my_phone.display_info()\n",
    "\n",
    "print(\"\\nTablet Info:\")\n",
    "my_tablet.display_info()\n"
   ]
  },
  {
   "cell_type": "markdown",
   "metadata": {},
   "source": [
    "10. Create a base class called \"BankAccount\" with attributes like \"account_number\" and \"balance.\" Derive two classes, \"SavingsAccount\" and \"CheckingAccount,\" from \"BankAccount.\" Add specific methods like \"calculate_interest\" for the \"SavingsAccount\" class and \"deduct_fees\" for the \"CheckingAccount\" class."
   ]
  },
  {
   "cell_type": "code",
   "execution_count": 18,
   "metadata": {},
   "outputs": [
    {
     "name": "stdout",
     "output_type": "stream",
     "text": [
      "Interest added: $125.0\n",
      "Fees deducted: $10.00\n",
      "\n",
      "Savings Account Info:\n",
      "Account Number: SA123, Balance: $5125.00\n",
      "\n",
      "Checking Account Info:\n",
      "Account Number: CA456, Balance: $290.00\n"
     ]
    }
   ],
   "source": [
    "class BankAccount:\n",
    "    def __init__(self, account_number, balance):\n",
    "        self.account_number = account_number\n",
    "        self.balance = balance\n",
    "\n",
    "    def display_info(self):\n",
    "        print(f\"Account Number: {self.account_number}, Balance: ${self.balance:.2f}\")\n",
    "\n",
    "class SavingsAccount(BankAccount):\n",
    "    def __init__(self, account_number, balance):\n",
    "        super().__init__(account_number, balance)  # Call parent class constructor\n",
    "\n",
    "    def calculate_interest(self, rate):\n",
    "        interest = self.balance * (rate / 100)\n",
    "        self.balance += interest\n",
    "        print(f\"Interest added: ${interest}\")\n",
    "\n",
    "class CheckingAccount(BankAccount):\n",
    "    def __init__(self, account_number, balance):\n",
    "        super().__init__(account_number, balance)  # Call parent class constructor\n",
    "\n",
    "    def deduct_fees(self, fee):\n",
    "        if self.balance >= fee:\n",
    "            self.balance -= fee\n",
    "            print(f\"Fees deducted: ${fee:.2f}\")\n",
    "        else:\n",
    "            print(\"Insufficient balance to deduct fees.\")\n",
    "\n",
    "# Example usage\n",
    "savings_account = SavingsAccount(account_number=\"SA123\", balance=5000)\n",
    "checking_account = CheckingAccount(account_number=\"CA456\", balance=300)\n",
    "\n",
    "savings_account.calculate_interest(rate=2.5)  # Assuming an annual interest rate of 2.5%\n",
    "checking_account.deduct_fees(fee=10)\n",
    "\n",
    "print(\"\\nSavings Account Info:\")\n",
    "savings_account.display_info()\n",
    "\n",
    "print(\"\\nChecking Account Info:\")\n",
    "checking_account.display_info()\n"
   ]
  },
  {
   "cell_type": "code",
   "execution_count": null,
   "metadata": {},
   "outputs": [],
   "source": []
  },
  {
   "cell_type": "code",
   "execution_count": null,
   "metadata": {},
   "outputs": [],
   "source": []
  }
 ],
 "metadata": {
  "kernelspec": {
   "display_name": "Python 3",
   "language": "python",
   "name": "python3"
  },
  "language_info": {
   "codemirror_mode": {
    "name": "ipython",
    "version": 3
   },
   "file_extension": ".py",
   "mimetype": "text/x-python",
   "name": "python",
   "nbconvert_exporter": "python",
   "pygments_lexer": "ipython3",
   "version": "3.9.6"
  }
 },
 "nbformat": 4,
 "nbformat_minor": 2
}

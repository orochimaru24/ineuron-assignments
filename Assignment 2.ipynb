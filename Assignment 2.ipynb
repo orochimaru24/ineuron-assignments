{
 "cells": [
  {
   "cell_type": "markdown",
   "id": "5c85b12b-0d92-48fb-b841-03b1f77e8746",
   "metadata": {},
   "source": [
    "1.What are the two values of the Boolean data type? How do you write them?\n",
    "\n",
    "\n",
    "Ans. The two values of Boolean data type are True and False\n",
    "    Here is an example. print(10>9) , print(10==9) The former one will provide True as a result whereas   latter one will provide False. "
   ]
  },
  {
   "cell_type": "markdown",
   "id": "14f2c699-11ef-4290-9d0c-46af0e9ed38d",
   "metadata": {},
   "source": [
    "2. What are the three different types of Boolean operators?\n",
    "\n",
    "\n",
    "Ans. and, or and not"
   ]
  },
  {
   "cell_type": "markdown",
   "id": "9c85ef18-1b4f-4913-bf74-4c91c20c2d07",
   "metadata": {},
   "source": [
    "3. Make a list of each Boolean operator's truth tables (i.e. every possible combination of Boolean values for the operator and what it evaluate ).\n",
    "\n",
    "\n",
    "Ans. True and True is True.\n",
    "\n",
    "True and False is False.\n",
    "\n",
    "False and True is False.\n",
    "\n",
    "False and False is False.\n",
    "\n",
    "True or True is True.\n",
    "\n",
    "True or False is True.\n",
    "\n",
    "False or True is True.\n",
    "\n",
    "False or False is False.\n",
    "\n",
    "not True is False.\n",
    "\n",
    "not False is True."
   ]
  },
  {
   "attachments": {},
   "cell_type": "markdown",
   "id": "33bc6693-6f44-4eb5-857d-8516e6d57e67",
   "metadata": {},
   "source": [
    "4. What are the values of the following expressions?\n",
    "\n",
    "\n",
    "(5 > 4) and (3 == 5)\n",
    "-False\n",
    "\n",
    "\n",
    "not (5 > 4)\n",
    "-False\n",
    "\n",
    "\n",
    "(5 > 4) or (3 == 5)\n",
    "-True\n",
    "\n",
    "\n",
    "not ((5 > 4) or (3 == 5))\n",
    "-False\n",
    "\n",
    "\n",
    "(True and True) and (True == False)\n",
    "-False\n",
    "\n",
    "\n",
    "(not False) or (not True)\n",
    "-True\n",
    "\n"
   ]
  },
  {
   "cell_type": "markdown",
   "id": "f717bb35-3246-4d6f-86ef-d8ac4aa216ea",
   "metadata": {},
   "source": [
    "5. What are the six comparison operators?\n",
    "\n",
    "\n",
    "Ans.  == equal, != not equal to, > Greater than, < Less than, >= Greater than or equal to, <= Less than or equal to\n"
   ]
  },
  {
   "cell_type": "markdown",
   "id": "98ebe322-ec19-4922-84d5-af450f968cd9",
   "metadata": {},
   "source": [
    "6. How do you tell the difference between the equal to and assignment operators?Describe a condition and when you would use one.\n",
    "\n",
    "\n",
    "Ans. a = 5    #equal to which is used to assign value to variable - a \n",
    "    if a == 5: # == to assign an operator for an if condition\n",
    "            print(\"Alright\")\n"
   ]
  },
  {
   "cell_type": "markdown",
   "id": "5cc5b7cd-9b4f-4f8a-9881-60f85e7a9f8d",
   "metadata": {},
   "source": [
    "7. Identify the three blocks in this code:\n",
    "\n",
    "\n",
    "spam = 0\n",
    "\n",
    "if spam == 10:\n",
    "\n",
    "print(‘eggs')\n",
    "\n",
    "-In first line a value is assigned to variable In the following line operator == and if condition is used where if the condition satisfies then it will execute the command which is written next to it; however, there will be no output as the condition is not matching.\n",
    "\n",
    "if spam > 5:\n",
    "\n",
    "print('bacon')\n",
    "\n",
    "else:\n",
    "\n",
    "print('ham')\n",
    "\n",
    "print('spam')\n",
    "\n",
    "print(‘spam')\n",
    "\n",
    "-Same condition first one but in this the output will be ‘ham spam spam’ because as the condition mentioned in if statement does not get fulfilled hence command written below else statement will be executed. \n"
   ]
  },
  {
   "cell_type": "markdown",
   "id": "81d48471-0ba0-4bc4-b6ba-0639aa073925",
   "metadata": {},
   "source": [
    "8. Write code that prints Hello if 1 is stored in spam, prints Howdy if 2 is stored in spam, and prints Greetings! if anything else is stored in spam.\n"
   ]
  },
  {
   "cell_type": "code",
   "execution_count": 8,
   "id": "465c1ccf-6a61-4026-99c8-dd01e05f46c4",
   "metadata": {},
   "outputs": [
    {
     "name": "stdout",
     "output_type": "stream",
     "text": [
      "Hello\n"
     ]
    }
   ],
   "source": [
    "    spam = 1\n",
    "    if spam == 1:\n",
    "         print(\"Hello\")\n",
    "    elif spam == 2:\n",
    "        print(\"Howdy\")\n",
    "    else:\n",
    "        print(\"Greetings!\")"
   ]
  },
  {
   "cell_type": "markdown",
   "id": "91d734d3-d941-4a09-9a53-79727d97273e",
   "metadata": {},
   "source": [
    "9.If your programme is stuck in an endless loop, what keys you’ll press?\n",
    "\n",
    "Ans.  Ctrl + C\n"
   ]
  },
  {
   "cell_type": "markdown",
   "id": "f1cc1351-556f-49c7-9b4f-b2b487281e9a",
   "metadata": {},
   "source": [
    "10. How can you tell the difference between break and continue?\n",
    "\n",
    "- Break - a break statement in Python alters the flow of a loop by         terminating it once a specified condition is met.\n",
    "\n",
    "-Continue - The continue statement in Python is used to skip the    remaining code inside a loop for the current iteration only."
   ]
  },
  {
   "cell_type": "markdown",
   "id": "aab1f84a-5d90-4226-9eb3-1ce2009d243e",
   "metadata": {},
   "source": [
    "11. In a for loop, what is the difference between range(10), range(0, 10), and range(0, 10, 1)?\n",
    "\n",
    "\n",
    "Ans. There is no difference between range(10), range(0,10) and range(0,10,1) as one will get the same output. In range(10) the sequence will start from 0 and in range(0,10) starting point of sequence is given which is 0 whereas for range(0,10,1) step is given i.e. how many numbers to skip. \n"
   ]
  },
  {
   "cell_type": "markdown",
   "id": "c0c8afe7-6cfc-4914-b4db-87376b53ac58",
   "metadata": {},
   "source": [
    "12. Write a short program that prints the numbers 1 to 10 using a for loop. Then write an equivalent program that prints the numbers 1 to 10 using a while loop.\n"
   ]
  },
  {
   "cell_type": "code",
   "execution_count": 9,
   "id": "50b1bb52-330c-4669-96ca-db97d3cdff37",
   "metadata": {},
   "outputs": [
    {
     "name": "stdout",
     "output_type": "stream",
     "text": [
      "1\n",
      "2\n",
      "3\n",
      "4\n",
      "5\n",
      "6\n",
      "7\n",
      "8\n",
      "9\n",
      "10\n"
     ]
    }
   ],
   "source": [
    "for x in range(1,11):\n",
    "        print(x)"
   ]
  },
  {
   "cell_type": "code",
   "execution_count": 10,
   "id": "86e5298d-f688-435a-8a87-6700485fc1a3",
   "metadata": {},
   "outputs": [
    {
     "name": "stdout",
     "output_type": "stream",
     "text": [
      "1\n",
      "2\n",
      "3\n",
      "4\n",
      "5\n",
      "6\n",
      "7\n",
      "8\n",
      "9\n",
      "10\n"
     ]
    }
   ],
   "source": [
    "x = 1\n",
    "while x < 11 :\n",
    "        print(x)\n",
    "        x = x + 1"
   ]
  },
  {
   "cell_type": "markdown",
   "id": "7be7ec8d-55b3-4191-9ff0-1370eb6bab09",
   "metadata": {},
   "source": [
    "13. If you had a function named bacon() inside a module named spam, how would you call it after importing spam?\n",
    "\n",
    "Ans. It can be called with spam. bacon()\n"
   ]
  },
  {
   "cell_type": "code",
   "execution_count": null,
   "id": "3c3854d1-f2f8-49d3-8d47-217be78eef3f",
   "metadata": {},
   "outputs": [],
   "source": []
  }
 ],
 "metadata": {
  "kernelspec": {
   "display_name": "Python 3 (ipykernel)",
   "language": "python",
   "name": "python3"
  },
  "language_info": {
   "codemirror_mode": {
    "name": "ipython",
    "version": 3
   },
   "file_extension": ".py",
   "mimetype": "text/x-python",
   "name": "python",
   "nbconvert_exporter": "python",
   "pygments_lexer": "ipython3",
   "version": "3.11.8"
  }
 },
 "nbformat": 4,
 "nbformat_minor": 5
}
